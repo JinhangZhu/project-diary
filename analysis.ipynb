{
 "cells": [
  {
   "cell_type": "code",
   "execution_count": 1,
   "metadata": {},
   "outputs": [],
   "source": [
    "%load_ext autoreload\n",
    "%autoreload 2"
   ]
  },
  {
   "cell_type": "markdown",
   "metadata": {},
   "source": [
    "# Exploratory analysis of the datasets"
   ]
  },
  {
   "cell_type": "markdown",
   "metadata": {},
   "source": [
    "![](https://user-images.githubusercontent.com/45664104/86419986-e932eb00-bccc-11ea-98e3-e1dcba512804.png)"
   ]
  },
  {
   "cell_type": "markdown",
   "metadata": {},
   "source": [
    "## Basis"
   ]
  },
  {
   "cell_type": "code",
   "execution_count": 2,
   "metadata": {},
   "outputs": [],
   "source": [
    "DS_PATH = \"../datasets/supervisely\""
   ]
  },
  {
   "cell_type": "code",
   "execution_count": 3,
   "metadata": {
    "tags": []
   },
   "outputs": [
    {
     "output_type": "stream",
     "name": "stderr",
     "text": "fatal: destination path 'supervisely-to-darknet' already exists and is not an empty directory.\n"
    }
   ],
   "source": [
    "# Clone the repo which contains essential functions\n",
    "!git clone https://github.com/JinhangZhu/supervisely-to-darknet.git\n",
    "import sys\n",
    "sys.path.append('./supervisely-to-darknet')"
   ]
  },
  {
   "cell_type": "code",
   "execution_count": 37,
   "metadata": {},
   "outputs": [],
   "source": [
    "# Libraries\n",
    "from tqdm import tqdm\n",
    "import os\n",
    "from convert import *\n",
    "import json\n",
    "import glob\n",
    "import shutil\n",
    "import numpy as np \n",
    "import random\n",
    "import matplotlib.pyplot as plt"
   ]
  },
  {
   "cell_type": "code",
   "execution_count": 5,
   "metadata": {
    "tags": []
   },
   "outputs": [
    {
     "output_type": "stream",
     "name": "stderr",
     "text": "Person: 100%|██████████| 20/20 [00:00<00:00, 102.83it/s]\n"
    }
   ],
   "source": [
    "# Delete all separate classes.names within each person dataset\n",
    "for p in tqdm(os.listdir(DS_PATH), desc='Person'):\n",
    "    filepath = os.path.join(DS_PATH, p)\n",
    "    if os.path.isdir(filepath):\n",
    "        if os.path.isfile(filepath + './classes.names'):\n",
    "            os.remove(filepath + './classes.names')"
   ]
  },
  {
   "cell_type": "code",
   "execution_count": 7,
   "metadata": {
    "tags": []
   },
   "outputs": [
    {
     "output_type": "stream",
     "name": "stdout",
     "text": "\nSave labels for person/subset/images in ./ds_class_names.json.\nP01 :['hand', '1', 'left_hand', 'right_hand']\nP02 :['hand']\nP03 :['hand']\nP04 :['hand']\nP05 :['hand']\nP06 :['hand']\nP07 :['hand']\nP08 :['hand']\nP10 :['hand']\nP12 :['hand']\nP13 :['hand']\nP14 :['hand']\nP15 :['hand']\nP16 :['hand']\nP17 :['hand']\nP19 :['hand']\nP20 :['hand']\nP21 :['hand']\nP22 :['hand']\nP23 :['hand']\n"
    }
   ],
   "source": [
    "class_names = {}    # Class names for person\n",
    "\n",
    "for p in os.listdir(DS_PATH):\n",
    "    filepath = os.path.join(DS_PATH, p)\n",
    "    # print('\\nPerson {}: '.format(p), filepath)\n",
    "\n",
    "    if os.path.isdir(filepath):\n",
    "        # Read meta.json to get classes\n",
    "        meta_path = filepath + os.sep + 'meta.json'\n",
    "        if os.path.isfile(meta_path):\n",
    "            classes, names_path = get_classes(meta_path, write=False)\n",
    "            class_names[p] = classes\n",
    "        else:\n",
    "            print('There is no meta.json file for person ', p)\n",
    "\n",
    "# Save class names of all datasets into json\n",
    "# class_names_path = DS_PATH + './ds_class_names.json'\n",
    "class_names_path = './ds_class_names.json'\n",
    "print('\\nSave labels for person/subset/images in {}.'.format(class_names_path))\n",
    "with open(class_names_path, 'w') as fp:\n",
    "    json.dump(class_names, fp, indent=4)\n",
    "\n",
    "# Iterate over key/value pairs in dict and print them\n",
    "for p, clss in class_names.items():\n",
    "    print(p, ' : ', clss)"
   ]
  },
  {
   "cell_type": "markdown",
   "metadata": {},
   "source": [
    "可以看出来，整体的标注信息表明，这20个人的数据集里，只有第一个人的数据包含四种标签，其余所有人的数据都是只有`hand`的标签，也就是有手和无手的区别。\n",
    "下一步看：\n",
    "\n",
    "- 各个标签的数目/该数据集的**有**标注总数/照片总数\n",
    "\n",
    "> 但是`1`这个标签实在是很奇怪，需要继续看。对于左右手的标签，我随便点开了几个标注文件，发现没有左右手的，可能也是个占小部分的标注，也需要拿出来看看，是哪些照片有这些小比例的标注，这个比例有多少？总数又是多少？"
   ]
  },
  {
   "cell_type": "code",
   "execution_count": 8,
   "metadata": {},
   "outputs": [],
   "source": [
    "# # Read json of class names\n",
    "# with open(class_names_path, 'r') as fp:\n",
    "#     class_names = json.load(fp)"
   ]
  },
  {
   "cell_type": "markdown",
   "metadata": {},
   "source": [
    "## Details and Visualisation"
   ]
  },
  {
   "cell_type": "code",
   "execution_count": 9,
   "metadata": {},
   "outputs": [],
   "source": [
    "def get_subset_labels(sub_p_path):\n",
    "    \"\"\"Get the labels from a subset of a person.\n",
    "\n",
    "    Argument:\n",
    "        sub_p_path: the path of the subset. e.g. '../datasets/supervisely\\\\P23\\\\P23_01'\n",
    "    \n",
    "    Returns:\n",
    "        sub_p_labels: a dictionary whose keys are image names, values are a list of tuples.\n",
    "            Each tuple is a bounding box: (class_name, b_x_center, b_y_center, b_width, b_height)\n",
    "    \"\"\"\n",
    "    sub_p_labels={}\n",
    "\n",
    "    # Get all file real paths\n",
    "    read_path = sub_p_path + os.sep\n",
    "    ann_paths = sorted(glob.glob(read_path + 'ann/' + '*.json'))\n",
    "    img_paths = sorted(glob.glob(read_path + 'img/' + '*.jpg'))\n",
    "\n",
    "    # Import all json annotation files for images\n",
    "    for (ann_path, img_path) in zip(ann_paths, img_paths):\n",
    "        # Current image\n",
    "        img_name = os.path.basename(img_path)[:-4]\n",
    "        sub_p_labels[img_name] = []\n",
    "\n",
    "        # Import json\n",
    "        with open(ann_path) as ann_f:\n",
    "            ann_data = json.load(ann_f)\n",
    "        \n",
    "        # Image size\n",
    "        image_size = ann_data['size']   # dict: {'height': , 'width': }\n",
    "\n",
    "        # Objects bounding boxes\n",
    "        bboxes = ann_data['objects']\n",
    "        if len(bboxes) != 0:    # With object(s)\n",
    "            for bbox in bboxes:\n",
    "                class_name = bbox['classTitle']\n",
    "                corner_coords = bbox['points']['exterior']  # bbox corner coordinates in [[left, top], [right, bottom]]\n",
    "\n",
    "                # Normalisation\n",
    "                b_x_center = (corner_coords[0][0] + corner_coords[1][0]) / 2 / image_size['width']\n",
    "                b_y_center = (corner_coords[0][1] + corner_coords[1][1]) / 2 / image_size['height']\n",
    "                b_width = (corner_coords[1][0] - corner_coords[0][0]) / image_size['width']\n",
    "                b_height = (corner_coords[1][1] - corner_coords[0][1]) / image_size['height']\n",
    "\n",
    "                # Save bbox label as a tuple for the image\n",
    "                sub_p_labels[img_name].append(\n",
    "                    (\n",
    "                        class_name,\n",
    "                        round(b_x_center, 6),\n",
    "                        round(b_y_center, 6),\n",
    "                        round(b_width, 6),\n",
    "                        round(b_height, 6)\n",
    "                    )\n",
    "                ) \n",
    "        \n",
    "    return sub_p_labels"
   ]
  },
  {
   "cell_type": "code",
   "execution_count": 10,
   "metadata": {
    "tags": []
   },
   "outputs": [
    {
     "output_type": "stream",
     "name": "stderr",
     "text": "Person:   0%|          | 0/20 [00:00<?, ?it/s]1004 image-annotation pairs in subset P01_02 of person P01\n238 image-annotation pairs in subset P01_03 of person P01\n984 image-annotation pairs in subset P01_06 of person P01\nPerson:   5%|▌         | 1/20 [00:04<01:20,  4.24s/it]2070 image-annotation pairs in subset P02_06 of person P02\n134 image-annotation pairs in subset P02_08 of person P02\n109 image-annotation pairs in subset P02_11 of person P02\nPerson:  10%|█         | 2/20 [00:06<01:04,  3.59s/it]219 image-annotation pairs in subset P03_06 of person P03\n215 image-annotation pairs in subset P03_07 of person P03\n106 image-annotation pairs in subset P03_11 of person P03\n49 image-annotation pairs in subset P03_18 of person P03\n195 image-annotation pairs in subset P03_27 of person P03\nPerson:  15%|█▌        | 3/20 [00:07<00:46,  2.76s/it]394 image-annotation pairs in subset P04_21 of person P04\nPerson:  20%|██        | 4/20 [00:07<00:33,  2.07s/it]777 image-annotation pairs in subset P05_04 of person P05\n312 image-annotation pairs in subset P05_05 of person P05\nPerson:  25%|██▌       | 5/20 [00:08<00:25,  1.68s/it]181 image-annotation pairs in subset P06_01 of person P06\n28 image-annotation pairs in subset P06_02 of person P06\n1371 image-annotation pairs in subset P06_03 of person P06\n62 image-annotation pairs in subset P06_08 of person P06\nPerson:  30%|███       | 6/20 [00:10<00:23,  1.67s/it]224 image-annotation pairs in subset P07_02 of person P07\n346 image-annotation pairs in subset P07_08 of person P07\n447 image-annotation pairs in subset P07_11 of person P07\nPerson:  35%|███▌      | 7/20 [00:11<00:19,  1.53s/it]215 image-annotation pairs in subset P08_02 of person P08\n300 image-annotation pairs in subset P08_03 of person P08\n48 image-annotation pairs in subset P08_07 of person P08\n68 image-annotation pairs in subset P08_12 of person P08\n275 image-annotation pairs in subset P08_19 of person P08\nPerson:  40%|████      | 8/20 [00:12<00:16,  1.34s/it]1824 image-annotation pairs in subset P10_01 of person P10\nPerson:  45%|████▌     | 9/20 [00:13<00:14,  1.33s/it]121 image-annotation pairs in subset P12_05 of person P12\n340 image-annotation pairs in subset P12_06 of person P12\nPerson:  50%|█████     | 10/20 [00:14<00:12,  1.23s/it]223 image-annotation pairs in subset P13_06 of person P13\nPerson:  55%|█████▌    | 11/20 [00:14<00:09,  1.02s/it]209 image-annotation pairs in subset P14_01 of person P14\n65 image-annotation pairs in subset P14_02 of person P14\n40 image-annotation pairs in subset P14_03 of person P14\nPerson:  60%|██████    | 12/20 [00:15<00:07,  1.14it/s]94 image-annotation pairs in subset P15_01 of person P15\n55 image-annotation pairs in subset P15_11 of person P15\nPerson:  65%|██████▌   | 13/20 [00:15<00:04,  1.44it/s]112 image-annotation pairs in subset P16_02 of person P16\n426 image-annotation pairs in subset P16_03 of person P16\nPerson:  70%|███████   | 14/20 [00:16<00:03,  1.54it/s]313 image-annotation pairs in subset P17_01 of person P17\nPerson:  75%|███████▌  | 15/20 [00:16<00:02,  1.72it/s]273 image-annotation pairs in subset P19_03 of person P19\nPerson:  80%|████████  | 16/20 [00:17<00:02,  1.99it/s]426 image-annotation pairs in subset P20_03 of person P20\nPerson:  85%|████████▌ | 17/20 [00:17<00:01,  2.02it/s]1138 image-annotation pairs in subset P21_04 of person P21\nPerson:  90%|█████████ | 18/20 [00:18<00:01,  1.56it/s]853 image-annotation pairs in subset P22_09 of person P22\nPerson:  95%|█████████▌| 19/20 [00:19<00:00,  1.38it/s]184 image-annotation pairs in subset P23_01 of person P23\nPerson: 100%|██████████| 20/20 [00:19<00:00,  1.02it/s]\n\nSave labels for person/subset/images in labels.json.\n"
    }
   ],
   "source": [
    "# Labels of all datasets of all person\n",
    "# format:\n",
    "# {\n",
    "#   'person':{\n",
    "#               'subset':{\n",
    "#                           'image': [(*bbox attributes)]\n",
    "#                        }                \n",
    "#            }   \n",
    "# }\n",
    "labels = {}\n",
    "\n",
    "# Collect all annotations into a single json\n",
    "for p in tqdm(os.listdir(DS_PATH), desc='Person'):\n",
    "    p_path = os.path.join(DS_PATH, p)\n",
    "\n",
    "    if os.path.isdir(p_path): \n",
    "        labels[p] = {}   # 'person'\n",
    "\n",
    "        for sub_p in os.listdir(p_path):\n",
    "            sub_p_path = os.path.join(p_path, sub_p)\n",
    "\n",
    "            if os.path.isdir(sub_p_path):\n",
    "                labels[p][sub_p] = get_subset_labels(sub_p_path)    # 'subset'\n",
    "                print(\n",
    "                    \"{} image-annotation pairs in subset {} of person {}\".format(len(labels[p][sub_p]), sub_p, p)\n",
    "                )\n",
    "\n",
    "labels_path = 'labels.json'\n",
    "print('\\nSave labels for person/subset/images in {}.'.format(labels_path))\n",
    "with open(labels_path, 'w') as fp:\n",
    "    json.dump(labels, fp, indent=4)"
   ]
  },
  {
   "cell_type": "markdown",
   "metadata": {},
   "source": [
    "找到少数类的标注所在的图片|以及数目|以及总数"
   ]
  },
  {
   "cell_type": "code",
   "execution_count": 11,
   "metadata": {},
   "outputs": [],
   "source": [
    "def find_annotation(labels, annotation):\n",
    "    r_with_anno = False\n",
    "    for p, p_labels in labels.items():\n",
    "        for sub_p, sub_p_labels in p_labels.items():\n",
    "\n",
    "            imgs_with_anno = []\n",
    "            for img_name, bboxes in sub_p_labels.items():\n",
    "                if len(bboxes) > 0:\n",
    "                    for bbox in bboxes: # bbox: tuples of five attributes\n",
    "                        if bbox[0] == annotation:\n",
    "                            imgs_with_anno.append(img_name)\n",
    "                            break\n",
    "            \n",
    "            if len(imgs_with_anno) > 0 and r_with_anno is False:\n",
    "                r_with_anno = True  # There exists such an image with such annotation\n",
    "\n",
    "            # print(\n",
    "            #     \"For subset {}, images with annotation '{}' count {}/{}.\".format(sub_p, annotation, len(imgs_with_anno), len(sub_p_labels))#,\n",
    "            # #    imgs_with_anno\n",
    "            # )\n",
    "    return r_with_anno"
   ]
  },
  {
   "cell_type": "code",
   "execution_count": 12,
   "metadata": {
    "tags": []
   },
   "outputs": [
    {
     "output_type": "stream",
     "name": "stdout",
     "text": "No image with annotation: 'left_hand'\nImage exists with annotation: 'hand'\nNo image with annotation: 'right_hand'\nNo image with annotation: '1'\n"
    }
   ],
   "source": [
    "# Get all labels from class_names (for all person)\n",
    "all_annotations = []\n",
    "for clss in class_names.values():\n",
    "    all_annotations.extend(clss)\n",
    "all_annotations = set(all_annotations)\n",
    "for annotation in all_annotations:\n",
    "    if not find_annotation(labels, annotation):\n",
    "        print(\"No image with annotation: '{}'\".format(annotation))\n",
    "    else:\n",
    "        print(\"Image exists with annotation: '{}'\".format(annotation))"
   ]
  },
  {
   "cell_type": "markdown",
   "metadata": {},
   "source": [
    "现在问题很清晰了，第一个人的数据集根本没有我开始认为的少数标签：`1`, `left_hand`, `right_hand`，猜想是最开始设置了这些但是实际标注只标注了`hand`的标签。\n",
    "\n",
    "所以得到一个结论：**这一次下载的所有的数据集都只有`hand`的标签**。可以把第一个人的`meta.json`的无用标签删掉了。\n",
    "\n",
    "下一步，**数据清洗`hand`数据集，生成anchors，完成训练**。"
   ]
  },
  {
   "cell_type": "code",
   "execution_count": 13,
   "metadata": {
    "tags": []
   },
   "outputs": [
    {
     "output_type": "stream",
     "name": "stdout",
     "text": "['left_hand', 'right_hand', '1']\n"
    }
   ],
   "source": [
    "del_labels = [l for l in all_annotations if l != 'hand']\n",
    "print(del_labels)"
   ]
  },
  {
   "cell_type": "markdown",
   "metadata": {},
   "source": [
    "把含有无用标签的`meta.json`修改，去掉无用标签"
   ]
  },
  {
   "cell_type": "code",
   "execution_count": 14,
   "metadata": {},
   "outputs": [],
   "source": [
    "def remove_labels(meta_path, del_labels):\n",
    "    \"\"\"Remove the specified labels from meta.json\n",
    "    \"\"\"\n",
    "    with open(meta_path, 'r') as fp:\n",
    "        meta_content = json.load(fp)\n",
    "    \n",
    "    rewrite = False\n",
    "    classes = meta_content['classes']   # classes: list of dicts\n",
    "    new_classes = []\n",
    "    for cls_dict in classes:\n",
    "        if cls_dict['title'] in del_labels:\n",
    "            rewrite = True\n",
    "        else:\n",
    "            new_classes.append(cls_dict)\n",
    "    \n",
    "    if rewrite:\n",
    "        meta_content['classes'] = new_classes\n",
    "        print(\"Rewrote {} by deleting the labels: {}.\".format(meta_path, del_labels))\n",
    "        with open(meta_path, 'w') as fp:\n",
    "            json.dump(meta_content, fp, indent=4)"
   ]
  },
  {
   "cell_type": "code",
   "execution_count": 15,
   "metadata": {
    "tags": []
   },
   "outputs": [
    {
     "output_type": "stream",
     "name": "stdout",
     "text": "Rewrote ../datasets/supervisely\\P01\\meta.json by deleting the labels: ['left_hand', 'right_hand', '1'].\n"
    }
   ],
   "source": [
    "for p in os.listdir(DS_PATH):\n",
    "    filepath = os.path.join(DS_PATH, p)\n",
    "    # print('\\nPerson {}: '.format(p), filepath)\n",
    "\n",
    "    if os.path.isdir(filepath):\n",
    "        # Read meta.json to get classes\n",
    "        meta_path = filepath + os.sep + 'meta.json'\n",
    "        if os.path.isfile(meta_path):\n",
    "            remove_labels(meta_path, del_labels)\n",
    "        else:\n",
    "            print('There is no meta.json file for person ', p)"
   ]
  },
  {
   "cell_type": "code",
   "execution_count": 16,
   "metadata": {
    "tags": []
   },
   "outputs": [
    {
     "output_type": "stream",
     "name": "stdout",
     "text": "\nSave labels for person/subset/images in ./ds_class_names.json.\nP01 :['hand']\nP02 :['hand']\nP03 :['hand']\nP04 :['hand']\nP05 :['hand']\nP06 :['hand']\nP07 :['hand']\nP08 :['hand']\nP10 :['hand']\nP12 :['hand']\nP13 :['hand']\nP14 :['hand']\nP15 :['hand']\nP16 :['hand']\nP17 :['hand']\nP19 :['hand']\nP20 :['hand']\nP21 :['hand']\nP22 :['hand']\nP23 :['hand']\n"
    }
   ],
   "source": [
    "# 检查一下数据集是不是清理干净了\n",
    "# meta.json\n",
    "class_names = {}    # Class names for person\n",
    "\n",
    "for p in os.listdir(DS_PATH):\n",
    "    filepath = os.path.join(DS_PATH, p)\n",
    "    # print('\\nPerson {}: '.format(p), filepath)\n",
    "\n",
    "    if os.path.isdir(filepath):\n",
    "        # Read meta.json to get classes\n",
    "        meta_path = filepath + os.sep + 'meta.json'\n",
    "        if os.path.isfile(meta_path):\n",
    "            classes, names_path = get_classes(meta_path, write=False)\n",
    "            class_names[p] = classes\n",
    "        else:\n",
    "            print('There is no meta.json file for person ', p)\n",
    "\n",
    "# Save class names of all datasets into json\n",
    "# class_names_path = DS_PATH + './ds_class_names.json'\n",
    "class_names_path = './ds_class_names.json'\n",
    "print('\\nSave labels for person/subset/images in {}.'.format(class_names_path))\n",
    "with open(class_names_path, 'w') as fp:\n",
    "    json.dump(class_names, fp, indent=4)\n",
    "\n",
    "# Iterate over key/value pairs in dict and print them\n",
    "for p, clss in class_names.items():\n",
    "    print(p, ' : ', clss)"
   ]
  },
  {
   "cell_type": "code",
   "execution_count": 45,
   "metadata": {},
   "outputs": [
    {
     "output_type": "execute_result",
     "data": {
      "text/plain": "['hand']"
     },
     "metadata": {},
     "execution_count": 45
    }
   ],
   "source": [
    "# Get all labels from class_names (for all person)\n",
    "all_annotations = []\n",
    "for clss in class_names.values():\n",
    "    all_annotations.extend(clss)\n",
    "all_annotations = list(set(all_annotations))\n",
    "all_annotations"
   ]
  },
  {
   "cell_type": "code",
   "execution_count": 18,
   "metadata": {
    "tags": []
   },
   "outputs": [
    {
     "output_type": "stream",
     "name": "stdout",
     "text": "Image exists with annotation: 'hand'\n"
    }
   ],
   "source": [
    "# Get all labels from class_names (for all person)\n",
    "all_annotations = []\n",
    "for clss in class_names.values():\n",
    "    all_annotations.extend(clss)\n",
    "all_annotations = set(all_annotations)\n",
    "for annotation in all_annotations:\n",
    "    if not find_annotation(labels, annotation):\n",
    "        print(\"No image with annotation: '{}'\".format(annotation))\n",
    "    else:\n",
    "        print(\"Image exists with annotation: '{}'\".format(annotation))"
   ]
  },
  {
   "cell_type": "markdown",
   "metadata": {},
   "source": [
    "现在保证数据集是纯净的了，所有的图片有且仅有`hand`和没有`hand`两类，现在我们需要\n",
    "\n",
    "**划分训练集，验证集和测试集**。"
   ]
  },
  {
   "cell_type": "markdown",
   "metadata": {},
   "source": [
    "先把各个person的subsets混合\n",
    "\n",
    "在`../datasets`目录下创建`handset`目录，其中包含所有的person的目录`P01`-`P23`这样的。每一个person的目录下包含`images`和`labels`两个目录和一个文件`meta.json`。即\n",
    "```bash\n",
    "├───handset\n",
    "├───├───P01\n",
    "├───├───├───images\n",
    "├───├───├───labels\n",
    "├───├───├───meta.json\n",
    "├───├───P02\n",
    "...\n",
    "```"
   ]
  },
  {
   "cell_type": "code",
   "execution_count": 35,
   "metadata": {},
   "outputs": [],
   "source": [
    "CONVERTED_PATH = '../datasets/handset'  # The path to the handset"
   ]
  },
  {
   "cell_type": "code",
   "execution_count": 36,
   "metadata": {
    "tags": []
   },
   "outputs": [
    {
     "output_type": "stream",
     "name": "stderr",
     "text": "\n\nPerson:   0%|          | 0/20 [00:00<?, ?it/s]\n\nPerson:  10%|█         | 2/20 [00:41<06:14, 20.83s/it]\n\nPerson:  15%|█▌        | 3/20 [01:07<06:20, 22.39s/it]\n\nPerson:  20%|██        | 4/20 [01:22<05:21, 20.08s/it]\n\nPerson:  25%|██▌       | 5/20 [01:35<04:27, 17.84s/it]\n\nPerson:  30%|███       | 6/20 [02:11<05:28, 23.50s/it]\n\nPerson:  35%|███▌      | 7/20 [02:32<04:55, 22.73s/it]\n\nPerson:  40%|████      | 8/20 [02:52<04:22, 21.90s/it]\n\nPerson:  45%|████▌     | 9/20 [03:27<04:45, 25.91s/it]\n\nPerson:  50%|█████     | 10/20 [03:38<03:31, 21.18s/it]\n\nPerson:  55%|█████▌    | 11/20 [03:42<02:26, 16.29s/it]\n\nPerson:  60%|██████    | 12/20 [03:48<01:44, 13.11s/it]\n\nPerson:  65%|██████▌   | 13/20 [03:52<01:12, 10.32s/it]\n\nPerson:  70%|███████   | 14/20 [04:05<01:06, 11.15s/it]\n\nPerson:  75%|███████▌  | 15/20 [04:12<00:48,  9.77s/it]\n\nPerson:  80%|████████  | 16/20 [04:19<00:35,  8.94s/it]\n\nPerson:  85%|████████▌ | 17/20 [04:28<00:27,  9.17s/it]\n\nPerson:  90%|█████████ | 18/20 [04:53<00:27, 13.94s/it]\n\nPerson:  95%|█████████▌| 19/20 [05:26<00:19, 19.71s/it]\n\nPerson: 100%|██████████| 20/20 [05:30<00:00, 16.54s/it]\n"
    }
   ],
   "source": [
    "# Make person(images and labels) folders\n",
    "with open('labels.json', 'r') as fp:\n",
    "    labels = json.load(fp)\n",
    "\n",
    "for p, p_set in tqdm(labels.items(), desc='Person'):\n",
    "    make_folders(\n",
    "        path=CONVERTED_PATH + os.sep + p    # like handset/person/images\n",
    "    )"
   ]
  },
  {
   "cell_type": "code",
   "execution_count": 47,
   "metadata": {
    "tags": []
   },
   "outputs": [
    {
     "output_type": "stream",
     "name": "stderr",
     "text": "\n\n\nPerson:   0%|          | 0/20 [00:00<?, ?it/s]\n\n\nPerson:   5%|▌         | 1/20 [07:16<2:18:14, 436.56s/it]\n\n\nPerson:  10%|█         | 2/20 [08:54<1:40:31, 335.09s/it]\n\n\nPerson:  15%|█▌        | 3/20 [09:55<1:11:35, 252.67s/it]\n\n\nPerson:  20%|██        | 4/20 [10:37<50:31, 189.46s/it]\n\n\nPerson:  25%|██▌       | 5/20 [11:41<38:00, 152.00s/it]\n\n\nPerson:  30%|███       | 6/20 [18:02<51:30, 220.75s/it]\n\n\nPerson:  35%|███▌      | 7/20 [20:59<44:57, 207.49s/it]\n\n\nPerson:  40%|████      | 8/20 [24:01<39:58, 199.91s/it]\n\n\nPerson:  45%|████▌     | 9/20 [29:06<42:26, 231.46s/it]\n\n\nPerson:  50%|█████     | 10/20 [30:42<31:47, 190.79s/it]\n\n\nPerson:  55%|█████▌    | 11/20 [31:28<22:04, 147.20s/it]\n\n\nPerson:  60%|██████    | 12/20 [32:16<15:40, 117.56s/it]\n\n\nPerson:  65%|██████▌   | 13/20 [32:54<10:54, 93.54s/it]\n\n\nPerson:  70%|███████   | 14/20 [34:43<09:50, 98.35s/it]\n\n\nPerson:  75%|███████▌  | 15/20 [35:17<06:35, 79.11s/it]\n\n\nPerson:  80%|████████  | 16/20 [36:17<04:53, 73.25s/it]\n\n\nPerson:  85%|████████▌ | 17/20 [37:49<03:57, 79.04s/it]\n\n\nPerson:  90%|█████████ | 18/20 [41:51<04:15, 127.73s/it]\n\n\nPerson:  95%|█████████▌| 19/20 [44:13<02:12, 132.02s/it]\n\n\nPerson: 100%|██████████| 20/20 [44:47<00:00, 134.38s/it]\n"
    }
   ],
   "source": [
    "# Copy the images to there\n",
    "# But change the image name as subset_index.jpg such as P01_02_0000000001.jpg\n",
    "for p, p_set in tqdm(labels.items(), desc='Person'):\n",
    "    for sub_p, sub_p_set in p_set.items():\n",
    "        for img_name, bboxes in sub_p_set.items():\n",
    "            if len(bboxes) != 0:    # There is >=1 bboxes\n",
    "                # Reset file name\n",
    "                # image_path = CONVERTED_PATH + '/' + p + '/images/'\n",
    "                # label_path = CONVERTED_PATH + '/' + p + '/labels/'\n",
    "                image_path = os.path.join(CONVERTED_PATH, p, 'images/')\n",
    "                label_path = os.path.join(CONVERTED_PATH, p, 'labels/')\n",
    "                image_name = sub_p + '_' + img_name + '.jpg'\n",
    "                label_name = sub_p + '_' + img_name + '.txt'\n",
    "\n",
    "                # Move image to the folder\n",
    "                # curr_image_path = DS_PATH + os.sep + p + os.sep + sub_p + '/img/' + img_name + '.jpg'\n",
    "                curr_image_path = os.path.join(DS_PATH, p, sub_p, 'img', img_name + '.jpg')\n",
    "                shutil.copy(curr_image_path, image_path)\n",
    "                # Rename\n",
    "                os.rename(os.path.join(image_path, img_name+'.jpg'), os.path.join(image_path, image_name))\n",
    "                \n",
    "                for bbox in bboxes: # Each bbox: [class_name, b_x_center, b_y_center, b_width, b_height]\n",
    "                    # Get attributes\n",
    "                    class_index = all_annotations.index(bbox[0])\n",
    "                    b_x_center, b_y_center, b_width, b_height = bbox[1:]\n",
    "\n",
    "                    # Write labels file\n",
    "                    if (b_width > 0.) and (b_height > 0.):\n",
    "                        with open(label_path + label_name, 'a') as label_f:\n",
    "                            label_f.write('%d %.6f %.6f %.6f %.6f\\n' % (class_index, b_x_center, b_y_center, b_width, b_height))"
   ]
  },
  {
   "cell_type": "code",
   "execution_count": 111,
   "metadata": {},
   "outputs": [],
   "source": [
    "# test shutil.copy and os.rename\n",
    "with open('test.txt', 'w') as fp:\n",
    "    fp.write('Hello world!')\n",
    "\n",
    "dest_dir = os.mkdir('dest')\n",
    "dest_dir = 'dest'\n",
    "\n",
    "shutil.copy('test.txt', dest_dir)\n",
    "dest_file = os.path.join(dest_dir, 'test.txt')\n",
    "new_dst_file_name = os.path.join(dest_dir, 'yes.txt')\n",
    "os.rename(dest_file, new_dst_file_name)"
   ]
  },
  {
   "cell_type": "code",
   "execution_count": 126,
   "metadata": {},
   "outputs": [
    {
     "output_type": "execute_result",
     "data": {
      "text/plain": "'f:\\\\PROJECT\\\\project-diary\\\\classes.names'"
     },
     "metadata": {},
     "execution_count": 126
    }
   ],
   "source": [
    "# Write classes.names \n",
    "with open(os.path.join(CONVERTED_PATH, 'classes.names'), 'w') as nf:\n",
    "    nf.write('{}\\n'.format('hand'))\n",
    "shutil.copy(os.path.join(CONVERTED_PATH, 'classes.names'), os.getcwd())"
   ]
  },
  {
   "cell_type": "markdown",
   "metadata": {},
   "source": [
    "现在我已经有了所有的数据集，按person划分，以及写有唯一标签`hand`的文件`classes.names`。现在需要进行**数据集的划分**，有两种思路可以实践：\n",
    "\n",
    "1. 将所有person的数据集混合在一起，也就是把图片放在同一文件夹里面。然后随机打乱，去除一定比例的训练集，验证集和测试集；\n",
    "\n",
    "2. 不混合person的数据集，而是随机选择一定比例的person，将他们的数据集分别混合在一起，作为训练集，验证集和测试集。\n",
    "\n",
    "第一种方式操作起来很粗暴简单，但是会把所有人的图片混合在一起，随机取出之后各个subsets之间差别不大，在训练集上训练好的模型在测试集上可能一样表现很好，对于检测并提高模型的generalization没有帮助。因为每个人拍照的方式都会不同，数据集之间会存在一些特征差异，如果subsets各采用不同人群的数据会好一些。"
   ]
  },
  {
   "cell_type": "code",
   "execution_count": 22,
   "metadata": {},
   "outputs": [],
   "source": [
    "def get_file_paths(directory):\n",
    "    \"\"\"Get paths to all files (NOT folders) in a directory.\n",
    "    \"\"\"\n",
    "    file_paths = []\n",
    "    for p in os.listdir(directory):\n",
    "        p_path = os.path.join(directory, p)\n",
    "        if os.path.isfile(p_path):\n",
    "            file_paths.append(p_path)\n",
    "    return file_paths"
   ]
  },
  {
   "cell_type": "code",
   "execution_count": 23,
   "metadata": {},
   "outputs": [],
   "source": [
    "def get_folder_paths(directory):\n",
    "    \"\"\"Get paths to all folders (NOT files) in a directory.\n",
    "    \"\"\"\n",
    "    folder_paths = []\n",
    "    for p in os.listdir(directory):\n",
    "        p_path = os.path.join(directory, p)\n",
    "        if os.path.isdir(p_path):\n",
    "            folder_paths.append(p_path)\n",
    "    return folder_paths"
   ]
  },
  {
   "cell_type": "code",
   "execution_count": 24,
   "metadata": {},
   "outputs": [],
   "source": [
    "# Get the lists of paths to all person datasets\n",
    "p_paths = get_folder_paths(CONVERTED_PATH)"
   ]
  },
  {
   "cell_type": "code",
   "execution_count": 25,
   "metadata": {},
   "outputs": [
    {
     "output_type": "execute_result",
     "data": {
      "text/plain": "['../datasets/handset\\\\P01',\n '../datasets/handset\\\\P02',\n '../datasets/handset\\\\P03',\n '../datasets/handset\\\\P04',\n '../datasets/handset\\\\P05',\n '../datasets/handset\\\\P06',\n '../datasets/handset\\\\P07',\n '../datasets/handset\\\\P08',\n '../datasets/handset\\\\P10',\n '../datasets/handset\\\\P12',\n '../datasets/handset\\\\P13',\n '../datasets/handset\\\\P14',\n '../datasets/handset\\\\P15',\n '../datasets/handset\\\\P16',\n '../datasets/handset\\\\P17',\n '../datasets/handset\\\\P19',\n '../datasets/handset\\\\P20',\n '../datasets/handset\\\\P21',\n '../datasets/handset\\\\P22',\n '../datasets/handset\\\\P23']"
     },
     "metadata": {},
     "execution_count": 25
    }
   ],
   "source": [
    "p_paths"
   ]
  },
  {
   "cell_type": "code",
   "execution_count": 26,
   "metadata": {},
   "outputs": [],
   "source": [
    "# random seed\n",
    "SEED = 12345678\n",
    "random.seed(SEED)\n",
    "np.random.seed(SEED)"
   ]
  },
  {
   "cell_type": "code",
   "execution_count": 27,
   "metadata": {},
   "outputs": [],
   "source": [
    "# Get the indices of person for training set, validation set and test set\n",
    "train_ids, val_ids, test_ids = split_indices(\n",
    "    data=p_paths,\n",
    "    train_ratio=0.6,\n",
    "    val_ratio=0.2,\n",
    "    shuffle=True\n",
    ")\n",
    "datasets = {'train': train_ids, 'validation': val_ids, 'test': test_ids}"
   ]
  },
  {
   "cell_type": "code",
   "execution_count": 28,
   "metadata": {},
   "outputs": [
    {
     "output_type": "execute_result",
     "data": {
      "text/plain": "{'train': array([17,  5, 12,  3,  0, 13,  7,  9, 14, 10,  6, 15]),\n 'validation': array([18,  8,  1, 11]),\n 'test': array([16,  4,  2, 19])}"
     },
     "metadata": {},
     "execution_count": 28
    }
   ],
   "source": [
    "datasets"
   ]
  },
  {
   "cell_type": "code",
   "execution_count": 39,
   "metadata": {},
   "outputs": [
    {
     "output_type": "display_data",
     "data": {
      "text/plain": "<Figure size 432x288 with 1 Axes>",
      "image/svg+xml": "<?xml version=\"1.0\" encoding=\"utf-8\" standalone=\"no\"?>\r\n<!DOCTYPE svg PUBLIC \"-//W3C//DTD SVG 1.1//EN\"\r\n  \"http://www.w3.org/Graphics/SVG/1.1/DTD/svg11.dtd\">\r\n<!-- Created with matplotlib (https://matplotlib.org/) -->\r\n<svg height=\"231.84pt\" version=\"1.1\" viewBox=\"0 0 355.114523 231.84\" width=\"355.114523pt\" xmlns=\"http://www.w3.org/2000/svg\" xmlns:xlink=\"http://www.w3.org/1999/xlink\">\r\n <defs>\r\n  <style type=\"text/css\">\r\n*{stroke-linecap:butt;stroke-linejoin:round;}\r\n  </style>\r\n </defs>\r\n <g id=\"figure_1\">\r\n  <g id=\"patch_1\">\r\n   <path d=\"M 0 231.84 \r\nL 355.114523 231.84 \r\nL 355.114523 0 \r\nL 0 0 \r\nz\r\n\" style=\"fill:none;\"/>\r\n  </g>\r\n  <g id=\"axes_1\">\r\n   <g id=\"patch_2\">\r\n    <path d=\"M 167.874622 22.008026 \r\nC 152.608307 22.008026 137.556584 25.621625 123.954197 32.552388 \r\nC 110.351811 39.48315 98.581168 49.53623 89.607853 61.886939 \r\nC 80.634539 74.237647 74.710822 88.538767 72.322644 103.617129 \r\nC 69.934467 118.695491 71.14897 134.127193 75.866522 148.646322 \r\nC 80.584074 163.16545 88.67205 176.363825 99.466966 187.158739 \r\nC 110.261882 197.953653 123.460258 206.041627 137.979388 210.759176 \r\nC 152.498517 215.476725 167.930219 216.691225 183.008581 214.303045 \r\nC 198.086942 211.914865 212.388061 205.991145 224.738768 197.017828 \r\nL 167.874622 118.75107 \r\nL 167.874622 22.008026 \r\nz\r\n\" style=\"fill:#092436;opacity:0.5;stroke:#092436;stroke-linejoin:miter;\"/>\r\n   </g>\r\n   <g id=\"patch_3\">\r\n    <path d=\"M 233.939578 194.028303 \r\nC 250.465327 182.02164 262.771267 165.083961 269.083539 145.656775 \r\nC 275.395811 126.229589 275.395807 105.293468 269.083529 85.866285 \r\nL 177.075432 115.761545 \r\nL 233.939578 194.028303 \r\nz\r\n\" style=\"fill:#4c2604;opacity:0.5;stroke:#4c2604;stroke-linejoin:miter;\"/>\r\n   </g>\r\n   <g id=\"patch_4\">\r\n    <path d=\"M 269.083529 85.866285 \r\nC 262.771251 66.439101 250.465305 49.501426 233.939552 37.494768 \r\nC 217.4138 25.488111 197.502364 19.018497 177.075414 19.018501 \r\nL 177.075432 115.761545 \r\nL 269.083529 85.866285 \r\nz\r\n\" style=\"fill:#0d300d;opacity:0.5;stroke:#0d300d;stroke-linejoin:miter;\"/>\r\n   </g>\r\n   <g id=\"patch_5\">\r\n    <path d=\"M 169.809483 20.073165 \r\nC 154.543167 20.073165 139.491445 23.686764 125.889058 30.617527 \r\nC 112.286672 37.548289 100.516029 47.601369 91.542714 59.952078 \r\nC 82.569399 72.302787 76.645682 86.603907 74.257505 101.682268 \r\nC 71.869328 116.76063 73.083831 132.192333 77.801383 146.711461 \r\nC 82.518935 161.230589 90.606911 174.428964 101.401827 185.223878 \r\nC 112.196743 196.018792 125.395119 204.106766 139.914248 208.824315 \r\nC 154.433378 213.541864 169.86508 214.756364 184.943442 212.368184 \r\nC 200.021803 209.980004 214.322922 204.056284 226.673629 195.082967 \r\nL 169.809483 116.816209 \r\nL 169.809483 20.073165 \r\nz\r\n\" style=\"fill:#1f77b4;\"/>\r\n   </g>\r\n   <g id=\"patch_6\">\r\n    <path d=\"M 235.874439 192.093442 \r\nC 252.400187 180.086779 264.706128 163.1491 271.0184 143.721914 \r\nC 277.330672 124.294729 277.330668 103.358607 271.01839 83.931424 \r\nL 179.010293 113.826684 \r\nL 235.874439 192.093442 \r\nz\r\n\" style=\"fill:#ff7f0e;\"/>\r\n   </g>\r\n   <g id=\"patch_7\">\r\n    <path d=\"M 271.01839 83.931424 \r\nC 264.706112 64.50424 252.400166 47.566565 235.874413 35.559907 \r\nC 219.348661 23.55325 199.437225 17.083636 179.010275 17.08364 \r\nL 179.010293 113.826684 \r\nL 271.01839 83.931424 \r\nz\r\n\" style=\"fill:#2ca02c;\"/>\r\n   </g>\r\n   <g id=\"matplotlib.axis_1\"/>\r\n   <g id=\"matplotlib.axis_2\"/>\r\n   <g id=\"text_1\">\r\n    <!-- train set -->\r\n    <defs>\r\n     <path d=\"M 18.3125 70.21875 \r\nL 18.3125 54.6875 \r\nL 36.8125 54.6875 \r\nL 36.8125 47.703125 \r\nL 18.3125 47.703125 \r\nL 18.3125 18.015625 \r\nQ 18.3125 11.328125 20.140625 9.421875 \r\nQ 21.96875 7.515625 27.59375 7.515625 \r\nL 36.8125 7.515625 \r\nL 36.8125 0 \r\nL 27.59375 0 \r\nQ 17.1875 0 13.234375 3.875 \r\nQ 9.28125 7.765625 9.28125 18.015625 \r\nL 9.28125 47.703125 \r\nL 2.6875 47.703125 \r\nL 2.6875 54.6875 \r\nL 9.28125 54.6875 \r\nL 9.28125 70.21875 \r\nz\r\n\" id=\"DejaVuSans-116\"/>\r\n     <path d=\"M 41.109375 46.296875 \r\nQ 39.59375 47.171875 37.8125 47.578125 \r\nQ 36.03125 48 33.890625 48 \r\nQ 26.265625 48 22.1875 43.046875 \r\nQ 18.109375 38.09375 18.109375 28.8125 \r\nL 18.109375 0 \r\nL 9.078125 0 \r\nL 9.078125 54.6875 \r\nL 18.109375 54.6875 \r\nL 18.109375 46.1875 \r\nQ 20.953125 51.171875 25.484375 53.578125 \r\nQ 30.03125 56 36.53125 56 \r\nQ 37.453125 56 38.578125 55.875 \r\nQ 39.703125 55.765625 41.0625 55.515625 \r\nz\r\n\" id=\"DejaVuSans-114\"/>\r\n     <path d=\"M 34.28125 27.484375 \r\nQ 23.390625 27.484375 19.1875 25 \r\nQ 14.984375 22.515625 14.984375 16.5 \r\nQ 14.984375 11.71875 18.140625 8.90625 \r\nQ 21.296875 6.109375 26.703125 6.109375 \r\nQ 34.1875 6.109375 38.703125 11.40625 \r\nQ 43.21875 16.703125 43.21875 25.484375 \r\nL 43.21875 27.484375 \r\nz\r\nM 52.203125 31.203125 \r\nL 52.203125 0 \r\nL 43.21875 0 \r\nL 43.21875 8.296875 \r\nQ 40.140625 3.328125 35.546875 0.953125 \r\nQ 30.953125 -1.421875 24.3125 -1.421875 \r\nQ 15.921875 -1.421875 10.953125 3.296875 \r\nQ 6 8.015625 6 15.921875 \r\nQ 6 25.140625 12.171875 29.828125 \r\nQ 18.359375 34.515625 30.609375 34.515625 \r\nL 43.21875 34.515625 \r\nL 43.21875 35.40625 \r\nQ 43.21875 41.609375 39.140625 45 \r\nQ 35.0625 48.390625 27.6875 48.390625 \r\nQ 23 48.390625 18.546875 47.265625 \r\nQ 14.109375 46.140625 10.015625 43.890625 \r\nL 10.015625 52.203125 \r\nQ 14.9375 54.109375 19.578125 55.046875 \r\nQ 24.21875 56 28.609375 56 \r\nQ 40.484375 56 46.34375 49.84375 \r\nQ 52.203125 43.703125 52.203125 31.203125 \r\nz\r\n\" id=\"DejaVuSans-97\"/>\r\n     <path d=\"M 9.421875 54.6875 \r\nL 18.40625 54.6875 \r\nL 18.40625 0 \r\nL 9.421875 0 \r\nz\r\nM 9.421875 75.984375 \r\nL 18.40625 75.984375 \r\nL 18.40625 64.59375 \r\nL 9.421875 64.59375 \r\nz\r\n\" id=\"DejaVuSans-105\"/>\r\n     <path d=\"M 54.890625 33.015625 \r\nL 54.890625 0 \r\nL 45.90625 0 \r\nL 45.90625 32.71875 \r\nQ 45.90625 40.484375 42.875 44.328125 \r\nQ 39.84375 48.1875 33.796875 48.1875 \r\nQ 26.515625 48.1875 22.3125 43.546875 \r\nQ 18.109375 38.921875 18.109375 30.90625 \r\nL 18.109375 0 \r\nL 9.078125 0 \r\nL 9.078125 54.6875 \r\nL 18.109375 54.6875 \r\nL 18.109375 46.1875 \r\nQ 21.34375 51.125 25.703125 53.5625 \r\nQ 30.078125 56 35.796875 56 \r\nQ 45.21875 56 50.046875 50.171875 \r\nQ 54.890625 44.34375 54.890625 33.015625 \r\nz\r\n\" id=\"DejaVuSans-110\"/>\r\n     <path id=\"DejaVuSans-32\"/>\r\n     <path d=\"M 44.28125 53.078125 \r\nL 44.28125 44.578125 \r\nQ 40.484375 46.53125 36.375 47.5 \r\nQ 32.28125 48.484375 27.875 48.484375 \r\nQ 21.1875 48.484375 17.84375 46.4375 \r\nQ 14.5 44.390625 14.5 40.28125 \r\nQ 14.5 37.15625 16.890625 35.375 \r\nQ 19.28125 33.59375 26.515625 31.984375 \r\nL 29.59375 31.296875 \r\nQ 39.15625 29.25 43.1875 25.515625 \r\nQ 47.21875 21.78125 47.21875 15.09375 \r\nQ 47.21875 7.46875 41.1875 3.015625 \r\nQ 35.15625 -1.421875 24.609375 -1.421875 \r\nQ 20.21875 -1.421875 15.453125 -0.5625 \r\nQ 10.6875 0.296875 5.421875 2 \r\nL 5.421875 11.28125 \r\nQ 10.40625 8.6875 15.234375 7.390625 \r\nQ 20.0625 6.109375 24.8125 6.109375 \r\nQ 31.15625 6.109375 34.5625 8.28125 \r\nQ 37.984375 10.453125 37.984375 14.40625 \r\nQ 37.984375 18.0625 35.515625 20.015625 \r\nQ 33.0625 21.96875 24.703125 23.78125 \r\nL 21.578125 24.515625 \r\nQ 13.234375 26.265625 9.515625 29.90625 \r\nQ 5.8125 33.546875 5.8125 39.890625 \r\nQ 5.8125 47.609375 11.28125 51.796875 \r\nQ 16.75 56 26.8125 56 \r\nQ 31.78125 56 36.171875 55.265625 \r\nQ 40.578125 54.546875 44.28125 53.078125 \r\nz\r\n\" id=\"DejaVuSans-115\"/>\r\n     <path d=\"M 56.203125 29.59375 \r\nL 56.203125 25.203125 \r\nL 14.890625 25.203125 \r\nQ 15.484375 15.921875 20.484375 11.0625 \r\nQ 25.484375 6.203125 34.421875 6.203125 \r\nQ 39.59375 6.203125 44.453125 7.46875 \r\nQ 49.3125 8.734375 54.109375 11.28125 \r\nL 54.109375 2.78125 \r\nQ 49.265625 0.734375 44.1875 -0.34375 \r\nQ 39.109375 -1.421875 33.890625 -1.421875 \r\nQ 20.796875 -1.421875 13.15625 6.1875 \r\nQ 5.515625 13.8125 5.515625 26.8125 \r\nQ 5.515625 40.234375 12.765625 48.109375 \r\nQ 20.015625 56 32.328125 56 \r\nQ 43.359375 56 49.78125 48.890625 \r\nQ 56.203125 41.796875 56.203125 29.59375 \r\nz\r\nM 47.21875 32.234375 \r\nQ 47.125 39.59375 43.09375 43.984375 \r\nQ 39.0625 48.390625 32.421875 48.390625 \r\nQ 24.90625 48.390625 20.390625 44.140625 \r\nQ 15.875 39.890625 15.1875 32.171875 \r\nz\r\n\" id=\"DejaVuSans-101\"/>\r\n    </defs>\r\n    <g transform=\"translate(26.864635 152.460361)scale(0.1 -0.1)\">\r\n     <use xlink:href=\"#DejaVuSans-116\"/>\r\n     <use x=\"39.208984\" xlink:href=\"#DejaVuSans-114\"/>\r\n     <use x=\"80.322266\" xlink:href=\"#DejaVuSans-97\"/>\r\n     <use x=\"141.601562\" xlink:href=\"#DejaVuSans-105\"/>\r\n     <use x=\"169.384766\" xlink:href=\"#DejaVuSans-110\"/>\r\n     <use x=\"232.763672\" xlink:href=\"#DejaVuSans-32\"/>\r\n     <use x=\"264.550781\" xlink:href=\"#DejaVuSans-115\"/>\r\n     <use x=\"316.650391\" xlink:href=\"#DejaVuSans-101\"/>\r\n     <use x=\"378.173828\" xlink:href=\"#DejaVuSans-116\"/>\r\n    </g>\r\n   </g>\r\n   <g id=\"text_2\">\r\n    <!-- 60.0% -->\r\n    <defs>\r\n     <path d=\"M 33.015625 40.375 \r\nQ 26.375 40.375 22.484375 35.828125 \r\nQ 18.609375 31.296875 18.609375 23.390625 \r\nQ 18.609375 15.53125 22.484375 10.953125 \r\nQ 26.375 6.390625 33.015625 6.390625 \r\nQ 39.65625 6.390625 43.53125 10.953125 \r\nQ 47.40625 15.53125 47.40625 23.390625 \r\nQ 47.40625 31.296875 43.53125 35.828125 \r\nQ 39.65625 40.375 33.015625 40.375 \r\nz\r\nM 52.59375 71.296875 \r\nL 52.59375 62.3125 \r\nQ 48.875 64.0625 45.09375 64.984375 \r\nQ 41.3125 65.921875 37.59375 65.921875 \r\nQ 27.828125 65.921875 22.671875 59.328125 \r\nQ 17.53125 52.734375 16.796875 39.40625 \r\nQ 19.671875 43.65625 24.015625 45.921875 \r\nQ 28.375 48.1875 33.59375 48.1875 \r\nQ 44.578125 48.1875 50.953125 41.515625 \r\nQ 57.328125 34.859375 57.328125 23.390625 \r\nQ 57.328125 12.15625 50.6875 5.359375 \r\nQ 44.046875 -1.421875 33.015625 -1.421875 \r\nQ 20.359375 -1.421875 13.671875 8.265625 \r\nQ 6.984375 17.96875 6.984375 36.375 \r\nQ 6.984375 53.65625 15.1875 63.9375 \r\nQ 23.390625 74.21875 37.203125 74.21875 \r\nQ 40.921875 74.21875 44.703125 73.484375 \r\nQ 48.484375 72.75 52.59375 71.296875 \r\nz\r\n\" id=\"DejaVuSans-54\"/>\r\n     <path d=\"M 31.78125 66.40625 \r\nQ 24.171875 66.40625 20.328125 58.90625 \r\nQ 16.5 51.421875 16.5 36.375 \r\nQ 16.5 21.390625 20.328125 13.890625 \r\nQ 24.171875 6.390625 31.78125 6.390625 \r\nQ 39.453125 6.390625 43.28125 13.890625 \r\nQ 47.125 21.390625 47.125 36.375 \r\nQ 47.125 51.421875 43.28125 58.90625 \r\nQ 39.453125 66.40625 31.78125 66.40625 \r\nz\r\nM 31.78125 74.21875 \r\nQ 44.046875 74.21875 50.515625 64.515625 \r\nQ 56.984375 54.828125 56.984375 36.375 \r\nQ 56.984375 17.96875 50.515625 8.265625 \r\nQ 44.046875 -1.421875 31.78125 -1.421875 \r\nQ 19.53125 -1.421875 13.0625 8.265625 \r\nQ 6.59375 17.96875 6.59375 36.375 \r\nQ 6.59375 54.828125 13.0625 64.515625 \r\nQ 19.53125 74.21875 31.78125 74.21875 \r\nz\r\n\" id=\"DejaVuSans-48\"/>\r\n     <path d=\"M 10.6875 12.40625 \r\nL 21 12.40625 \r\nL 21 0 \r\nL 10.6875 0 \r\nz\r\n\" id=\"DejaVuSans-46\"/>\r\n     <path d=\"M 72.703125 32.078125 \r\nQ 68.453125 32.078125 66.03125 28.46875 \r\nQ 63.625 24.859375 63.625 18.40625 \r\nQ 63.625 12.0625 66.03125 8.421875 \r\nQ 68.453125 4.78125 72.703125 4.78125 \r\nQ 76.859375 4.78125 79.265625 8.421875 \r\nQ 81.6875 12.0625 81.6875 18.40625 \r\nQ 81.6875 24.8125 79.265625 28.4375 \r\nQ 76.859375 32.078125 72.703125 32.078125 \r\nz\r\nM 72.703125 38.28125 \r\nQ 80.421875 38.28125 84.953125 32.90625 \r\nQ 89.5 27.546875 89.5 18.40625 \r\nQ 89.5 9.28125 84.9375 3.921875 \r\nQ 80.375 -1.421875 72.703125 -1.421875 \r\nQ 64.890625 -1.421875 60.34375 3.921875 \r\nQ 55.8125 9.28125 55.8125 18.40625 \r\nQ 55.8125 27.59375 60.375 32.9375 \r\nQ 64.9375 38.28125 72.703125 38.28125 \r\nz\r\nM 22.3125 68.015625 \r\nQ 18.109375 68.015625 15.6875 64.375 \r\nQ 13.28125 60.75 13.28125 54.390625 \r\nQ 13.28125 47.953125 15.671875 44.328125 \r\nQ 18.0625 40.71875 22.3125 40.71875 \r\nQ 26.5625 40.71875 28.96875 44.328125 \r\nQ 31.390625 47.953125 31.390625 54.390625 \r\nQ 31.390625 60.6875 28.953125 64.34375 \r\nQ 26.515625 68.015625 22.3125 68.015625 \r\nz\r\nM 66.40625 74.21875 \r\nL 74.21875 74.21875 \r\nL 28.609375 -1.421875 \r\nL 20.796875 -1.421875 \r\nz\r\nM 22.3125 74.21875 \r\nQ 30.03125 74.21875 34.609375 68.875 \r\nQ 39.203125 63.53125 39.203125 54.390625 \r\nQ 39.203125 45.171875 34.640625 39.84375 \r\nQ 30.078125 34.515625 22.3125 34.515625 \r\nQ 14.546875 34.515625 10.03125 39.859375 \r\nQ 5.515625 45.21875 5.515625 54.390625 \r\nQ 5.515625 63.484375 10.046875 68.84375 \r\nQ 14.59375 74.21875 22.3125 74.21875 \r\nz\r\n\" id=\"DejaVuSans-37\"/>\r\n    </defs>\r\n    <g transform=\"translate(98.721029 137.512735)scale(0.1 -0.1)\">\r\n     <use xlink:href=\"#DejaVuSans-54\"/>\r\n     <use x=\"63.623047\" xlink:href=\"#DejaVuSans-48\"/>\r\n     <use x=\"127.246094\" xlink:href=\"#DejaVuSans-46\"/>\r\n     <use x=\"159.033203\" xlink:href=\"#DejaVuSans-48\"/>\r\n     <use x=\"222.65625\" xlink:href=\"#DejaVuSans-37\"/>\r\n    </g>\r\n   </g>\r\n   <g id=\"text_3\">\r\n    <!-- validation set -->\r\n    <defs>\r\n     <path d=\"M 2.984375 54.6875 \r\nL 12.5 54.6875 \r\nL 29.59375 8.796875 \r\nL 46.6875 54.6875 \r\nL 56.203125 54.6875 \r\nL 35.6875 0 \r\nL 23.484375 0 \r\nz\r\n\" id=\"DejaVuSans-118\"/>\r\n     <path d=\"M 9.421875 75.984375 \r\nL 18.40625 75.984375 \r\nL 18.40625 0 \r\nL 9.421875 0 \r\nz\r\n\" id=\"DejaVuSans-108\"/>\r\n     <path d=\"M 45.40625 46.390625 \r\nL 45.40625 75.984375 \r\nL 54.390625 75.984375 \r\nL 54.390625 0 \r\nL 45.40625 0 \r\nL 45.40625 8.203125 \r\nQ 42.578125 3.328125 38.25 0.953125 \r\nQ 33.9375 -1.421875 27.875 -1.421875 \r\nQ 17.96875 -1.421875 11.734375 6.484375 \r\nQ 5.515625 14.40625 5.515625 27.296875 \r\nQ 5.515625 40.1875 11.734375 48.09375 \r\nQ 17.96875 56 27.875 56 \r\nQ 33.9375 56 38.25 53.625 \r\nQ 42.578125 51.265625 45.40625 46.390625 \r\nz\r\nM 14.796875 27.296875 \r\nQ 14.796875 17.390625 18.875 11.75 \r\nQ 22.953125 6.109375 30.078125 6.109375 \r\nQ 37.203125 6.109375 41.296875 11.75 \r\nQ 45.40625 17.390625 45.40625 27.296875 \r\nQ 45.40625 37.203125 41.296875 42.84375 \r\nQ 37.203125 48.484375 30.078125 48.484375 \r\nQ 22.953125 48.484375 18.875 42.84375 \r\nQ 14.796875 37.203125 14.796875 27.296875 \r\nz\r\n\" id=\"DejaVuSans-100\"/>\r\n     <path d=\"M 30.609375 48.390625 \r\nQ 23.390625 48.390625 19.1875 42.75 \r\nQ 14.984375 37.109375 14.984375 27.296875 \r\nQ 14.984375 17.484375 19.15625 11.84375 \r\nQ 23.34375 6.203125 30.609375 6.203125 \r\nQ 37.796875 6.203125 41.984375 11.859375 \r\nQ 46.1875 17.53125 46.1875 27.296875 \r\nQ 46.1875 37.015625 41.984375 42.703125 \r\nQ 37.796875 48.390625 30.609375 48.390625 \r\nz\r\nM 30.609375 56 \r\nQ 42.328125 56 49.015625 48.375 \r\nQ 55.71875 40.765625 55.71875 27.296875 \r\nQ 55.71875 13.875 49.015625 6.21875 \r\nQ 42.328125 -1.421875 30.609375 -1.421875 \r\nQ 18.84375 -1.421875 12.171875 6.21875 \r\nQ 5.515625 13.875 5.515625 27.296875 \r\nQ 5.515625 40.765625 12.171875 48.375 \r\nQ 18.84375 56 30.609375 56 \r\nz\r\n\" id=\"DejaVuSans-111\"/>\r\n    </defs>\r\n    <g transform=\"translate(280.219211 149.470812)scale(0.1 -0.1)\">\r\n     <use xlink:href=\"#DejaVuSans-118\"/>\r\n     <use x=\"59.179688\" xlink:href=\"#DejaVuSans-97\"/>\r\n     <use x=\"120.458984\" xlink:href=\"#DejaVuSans-108\"/>\r\n     <use x=\"148.242188\" xlink:href=\"#DejaVuSans-105\"/>\r\n     <use x=\"176.025391\" xlink:href=\"#DejaVuSans-100\"/>\r\n     <use x=\"239.501953\" xlink:href=\"#DejaVuSans-97\"/>\r\n     <use x=\"300.78125\" xlink:href=\"#DejaVuSans-116\"/>\r\n     <use x=\"339.990234\" xlink:href=\"#DejaVuSans-105\"/>\r\n     <use x=\"367.773438\" xlink:href=\"#DejaVuSans-111\"/>\r\n     <use x=\"428.955078\" xlink:href=\"#DejaVuSans-110\"/>\r\n     <use x=\"492.333984\" xlink:href=\"#DejaVuSans-32\"/>\r\n     <use x=\"524.121094\" xlink:href=\"#DejaVuSans-115\"/>\r\n     <use x=\"576.220703\" xlink:href=\"#DejaVuSans-101\"/>\r\n     <use x=\"637.744141\" xlink:href=\"#DejaVuSans-116\"/>\r\n    </g>\r\n   </g>\r\n   <g id=\"text_4\">\r\n    <!-- 20.0% -->\r\n    <defs>\r\n     <path d=\"M 19.1875 8.296875 \r\nL 53.609375 8.296875 \r\nL 53.609375 0 \r\nL 7.328125 0 \r\nL 7.328125 8.296875 \r\nQ 12.9375 14.109375 22.625 23.890625 \r\nQ 32.328125 33.6875 34.8125 36.53125 \r\nQ 39.546875 41.84375 41.421875 45.53125 \r\nQ 43.3125 49.21875 43.3125 52.78125 \r\nQ 43.3125 58.59375 39.234375 62.25 \r\nQ 35.15625 65.921875 28.609375 65.921875 \r\nQ 23.96875 65.921875 18.8125 64.3125 \r\nQ 13.671875 62.703125 7.8125 59.421875 \r\nL 7.8125 69.390625 \r\nQ 13.765625 71.78125 18.9375 73 \r\nQ 24.125 74.21875 28.421875 74.21875 \r\nQ 39.75 74.21875 46.484375 68.546875 \r\nQ 53.21875 62.890625 53.21875 53.421875 \r\nQ 53.21875 48.921875 51.53125 44.890625 \r\nQ 49.859375 40.875 45.40625 35.40625 \r\nQ 44.1875 33.984375 37.640625 27.21875 \r\nQ 31.109375 20.453125 19.1875 8.296875 \r\nz\r\n\" id=\"DejaVuSans-50\"/>\r\n    </defs>\r\n    <g transform=\"translate(218.331563 134.523197)scale(0.1 -0.1)\">\r\n     <use xlink:href=\"#DejaVuSans-50\"/>\r\n     <use x=\"63.623047\" xlink:href=\"#DejaVuSans-48\"/>\r\n     <use x=\"127.246094\" xlink:href=\"#DejaVuSans-46\"/>\r\n     <use x=\"159.033203\" xlink:href=\"#DejaVuSans-48\"/>\r\n     <use x=\"222.65625\" xlink:href=\"#DejaVuSans-37\"/>\r\n    </g>\r\n   </g>\r\n   <g id=\"text_5\">\r\n    <!-- test set -->\r\n    <g transform=\"translate(241.560825 30.492605)scale(0.1 -0.1)\">\r\n     <use xlink:href=\"#DejaVuSans-116\"/>\r\n     <use x=\"39.208984\" xlink:href=\"#DejaVuSans-101\"/>\r\n     <use x=\"100.732422\" xlink:href=\"#DejaVuSans-115\"/>\r\n     <use x=\"152.832031\" xlink:href=\"#DejaVuSans-116\"/>\r\n     <use x=\"192.041016\" xlink:href=\"#DejaVuSans-32\"/>\r\n     <use x=\"223.828125\" xlink:href=\"#DejaVuSans-115\"/>\r\n     <use x=\"275.927734\" xlink:href=\"#DejaVuSans-101\"/>\r\n     <use x=\"337.451172\" xlink:href=\"#DejaVuSans-116\"/>\r\n    </g>\r\n   </g>\r\n   <g id=\"text_6\">\r\n    <!-- 20.0% -->\r\n    <g transform=\"translate(197.245171 69.625993)scale(0.1 -0.1)\">\r\n     <use xlink:href=\"#DejaVuSans-50\"/>\r\n     <use x=\"63.623047\" xlink:href=\"#DejaVuSans-48\"/>\r\n     <use x=\"127.246094\" xlink:href=\"#DejaVuSans-46\"/>\r\n     <use x=\"159.033203\" xlink:href=\"#DejaVuSans-48\"/>\r\n     <use x=\"222.65625\" xlink:href=\"#DejaVuSans-37\"/>\r\n    </g>\r\n   </g>\r\n  </g>\r\n </g>\r\n</svg>\r\n",
      "image/png": "[encoded data removed]"
     },
     "metadata": {}
    }
   ],
   "source": [
    "labels = [l+' set' for l in datasets.keys()]\n",
    "sizes = [ss.size for ss in datasets.values()]\n",
    "explode = (0.1, 0, 0)  # only \"explode\" the 1st slice (i.e. 'train')\n",
    "\n",
    "fig1, ax1 = plt.subplots()\n",
    "ax1.pie(sizes, explode=explode, labels=labels, autopct='%1.1f%%',\n",
    "        shadow=True, startangle=90)\n",
    "ax1.axis('equal')  # Equal aspect ratio ensures that pie is drawn as a circle.\n",
    "\n",
    "plt.show()"
   ]
  },
  {
   "cell_type": "code",
   "execution_count": 48,
   "metadata": {},
   "outputs": [],
   "source": [
    "# Mix datasets of individuals for each subset\n",
    "FINAL_PATH = '../datasets/ego-hand'"
   ]
  },
  {
   "cell_type": "code",
   "execution_count": 159,
   "metadata": {},
   "outputs": [
    {
     "output_type": "execute_result",
     "data": {
      "text/plain": "'../datasets/ego-hand\\\\classes.names'"
     },
     "metadata": {},
     "execution_count": 159
    }
   ],
   "source": [
    "# Make images and labels folders\n",
    "make_folders(FINAL_PATH)\n",
    "shutil.copy(os.path.join(CONVERTED_PATH, 'classes.names'), FINAL_PATH)"
   ]
  },
  {
   "cell_type": "markdown",
   "metadata": {},
   "source": [
    "现在想了想，最后也还是得把所有照片混在一起，只要指明训练集/验证集/测试集还是按人分就行。"
   ]
  },
  {
   "cell_type": "code",
   "execution_count": 53,
   "metadata": {},
   "outputs": [
    {
     "output_type": "execute_result",
     "data": {
      "text/plain": "['../datasets/handset\\\\P01',\n '../datasets/handset\\\\P02',\n '../datasets/handset\\\\P03',\n '../datasets/handset\\\\P04',\n '../datasets/handset\\\\P05',\n '../datasets/handset\\\\P06',\n '../datasets/handset\\\\P07',\n '../datasets/handset\\\\P08',\n '../datasets/handset\\\\P10',\n '../datasets/handset\\\\P12',\n '../datasets/handset\\\\P13',\n '../datasets/handset\\\\P14',\n '../datasets/handset\\\\P15',\n '../datasets/handset\\\\P16',\n '../datasets/handset\\\\P17',\n '../datasets/handset\\\\P19',\n '../datasets/handset\\\\P20',\n '../datasets/handset\\\\P21',\n '../datasets/handset\\\\P22',\n '../datasets/handset\\\\P23']"
     },
     "metadata": {},
     "execution_count": 53
    }
   ],
   "source": [
    "from_paths = get_folder_paths(CONVERTED_PATH)\n",
    "from_paths"
   ]
  },
  {
   "cell_type": "code",
   "execution_count": 64,
   "metadata": {
    "tags": []
   },
   "outputs": [
    {
     "output_type": "stream",
     "name": "stderr",
     "text": "\n\n\nSubsets:   0%|          | 0/3 [00:00<?, ?it/s]\n\n\nSubsets:  33%|███▎      | 1/3 [25:32<51:04, 1532.46s/it]\n\n\nSubsets:  67%|██████▋   | 2/3 [37:23<21:26, 1286.16s/it]\n\n\nSubsets: 100%|██████████| 3/3 [43:13<00:00, 864.44s/it]\n"
    }
   ],
   "source": [
    "# Transfer from handset to ego-hand\n",
    "for key, ids in tqdm(datasets.items(), desc='Subsets'):\n",
    "    if ids.any():   # Subsets not empty\n",
    "        for p_path in [from_paths[i] for i in ids]:\n",
    "            img_paths = sorted(glob.glob(p_path + '/images/' + '*.jpg'))\n",
    "            ann_paths = sorted(glob.glob(p_path + '/labels/' + '*.txt'))\n",
    "            for img_path, ann_path in zip(img_paths, ann_paths):\n",
    "                shutil.copy(img_path, os.path.join(FINAL_PATH, 'images'))   # Copy an image\n",
    "                shutil.copy(ann_path, os.path.join(FINAL_PATH, 'labels'))   # Copy a label"
   ]
  },
  {
   "cell_type": "code",
   "execution_count": 70,
   "metadata": {},
   "outputs": [
    {
     "output_type": "execute_result",
     "data": {
      "text/plain": "'P01'"
     },
     "metadata": {},
     "execution_count": 70
    }
   ],
   "source": [
    "os.path.basename(from_paths[0])"
   ]
  },
  {
   "cell_type": "code",
   "execution_count": 72,
   "metadata": {
    "tags": []
   },
   "outputs": [
    {
     "output_type": "stream",
     "name": "stderr",
     "text": "\n\n\nSubsets:   0%|          | 0/3 [00:00<?, ?it/s]\n\n\nSubsets:  33%|███▎      | 1/3 [00:04<00:09,  4.88s/it]\n\n\nSubsets:  67%|██████▋   | 2/3 [00:05<00:03,  3.49s/it]\n\n\nSubsets: 100%|██████████| 3/3 [00:05<00:00,  1.75s/it]\n"
    }
   ],
   "source": [
    "# Store the paths of subsets *.txt files\n",
    "subsets_paths = {}\n",
    "for key, ids in tqdm(datasets.items(), desc='Subsets'):\n",
    "    if ids.any():\n",
    "        subsets_paths[key] = os.path.join(FINAL_PATH, key + '.txt')  # Store the key/path\n",
    "        with open(subsets_paths[key], 'a') as wf:\n",
    "            for idx in ids: # idx: index of person\n",
    "                p_path = from_paths[idx]\n",
    "                img_paths = sorted(glob.glob(p_path + '/images/' + '*.jpg'))\n",
    "                for img_path in img_paths:\n",
    "                    write_name = os.path.join(FINAL_PATH, 'images', os.path.basename(img_path))\n",
    "                    wf.write('{}'.format(write_name) + '\\n')"
   ]
  },
  {
   "cell_type": "code",
   "execution_count": 76,
   "metadata": {},
   "outputs": [],
   "source": [
    " # Write .data file\n",
    " with open(os.path.join(FINAL_PATH, os.path.basename(FINAL_PATH)) + '.data', 'a') as data_f:\n",
    "    data_f.write('classes={}\\n'.format(len(classes)))   # Classes count\n",
    "    data_f.write('train={}\\n'.format(subsets_paths['train']))   # Path of train set\n",
    "    data_f.write('valid={}\\n'.format(subsets_paths['validation'])) # Path of validation set\n",
    "    data_f.write('names={}\\n'.format(os.path.join(FINAL_PATH, 'classes.names')))   # Path of .names file"
   ]
  },
  {
   "cell_type": "code",
   "execution_count": 83,
   "metadata": {},
   "outputs": [
    {
     "output_type": "display_data",
     "data": {
      "text/plain": "<Figure size 432x288 with 1 Axes>",
      "image/svg+xml": "<?xml version=\"1.0\" encoding=\"utf-8\" standalone=\"no\"?>\r\n<!DOCTYPE svg PUBLIC \"-//W3C//DTD SVG 1.1//EN\"\r\n  \"http://www.w3.org/Graphics/SVG/1.1/DTD/svg11.dtd\">\r\n<!-- Created with matplotlib (https://matplotlib.org/) -->\r\n<svg height=\"231.84pt\" version=\"1.1\" viewBox=\"0 0 349.2 231.84\" width=\"349.2pt\" xmlns=\"http://www.w3.org/2000/svg\" xmlns:xlink=\"http://www.w3.org/1999/xlink\">\r\n <defs>\r\n  <style type=\"text/css\">\r\n*{stroke-linecap:butt;stroke-linejoin:round;}\r\n  </style>\r\n </defs>\r\n <g id=\"figure_1\">\r\n  <g id=\"patch_1\">\r\n   <path d=\"M 0 231.84 \r\nL 349.2 231.84 \r\nL 349.2 0 \r\nL 0 0 \r\nz\r\n\" style=\"fill:none;\"/>\r\n  </g>\r\n  <g id=\"axes_1\">\r\n   <g id=\"patch_2\">\r\n    <path d=\"M 167.874622 22.008026 \r\nC 152.608307 22.008026 137.556584 25.621625 123.954197 32.552388 \r\nC 110.351811 39.48315 98.581168 49.53623 89.607853 61.886939 \r\nC 80.634539 74.237647 74.710822 88.538767 72.322644 103.617129 \r\nC 69.934467 118.695491 71.14897 134.127193 75.866522 148.646322 \r\nC 80.584074 163.16545 88.67205 176.363825 99.466966 187.158739 \r\nC 110.261882 197.953653 123.460258 206.041627 137.979388 210.759176 \r\nC 152.498517 215.476725 167.930219 216.691225 183.008581 214.303045 \r\nC 198.086942 211.914865 212.388061 205.991145 224.738768 197.017828 \r\nL 167.874622 118.75107 \r\nL 167.874622 22.008026 \r\nz\r\n\" style=\"fill:#092436;opacity:0.5;stroke:#092436;stroke-linejoin:miter;\"/>\r\n   </g>\r\n   <g id=\"patch_3\">\r\n    <path d=\"M 233.939578 194.028303 \r\nC 250.465327 182.02164 262.771267 165.083961 269.083539 145.656775 \r\nC 275.395811 126.229589 275.395807 105.293468 269.083529 85.866285 \r\nL 177.075432 115.761545 \r\nL 233.939578 194.028303 \r\nz\r\n\" style=\"fill:#4c2604;opacity:0.5;stroke:#4c2604;stroke-linejoin:miter;\"/>\r\n   </g>\r\n   <g id=\"patch_4\">\r\n    <path d=\"M 269.083529 85.866285 \r\nC 262.771251 66.439101 250.465305 49.501426 233.939552 37.494768 \r\nC 217.4138 25.488111 197.502364 19.018497 177.075414 19.018501 \r\nL 177.075432 115.761545 \r\nL 269.083529 85.866285 \r\nz\r\n\" style=\"fill:#0d300d;opacity:0.5;stroke:#0d300d;stroke-linejoin:miter;\"/>\r\n   </g>\r\n   <g id=\"patch_5\">\r\n    <path d=\"M 169.809483 20.073165 \r\nC 154.543167 20.073165 139.491445 23.686764 125.889058 30.617527 \r\nC 112.286672 37.548289 100.516029 47.601369 91.542714 59.952078 \r\nC 82.569399 72.302787 76.645682 86.603907 74.257505 101.682268 \r\nC 71.869328 116.76063 73.083831 132.192333 77.801383 146.711461 \r\nC 82.518935 161.230589 90.606911 174.428964 101.401827 185.223878 \r\nC 112.196743 196.018792 125.395119 204.106766 139.914248 208.824315 \r\nC 154.433378 213.541864 169.86508 214.756364 184.943442 212.368184 \r\nC 200.021803 209.980004 214.322922 204.056284 226.673629 195.082967 \r\nL 169.809483 116.816209 \r\nL 169.809483 20.073165 \r\nz\r\n\" style=\"fill:#1f77b4;\"/>\r\n   </g>\r\n   <g id=\"patch_6\">\r\n    <path d=\"M 235.874439 192.093442 \r\nC 252.400187 180.086779 264.706128 163.1491 271.0184 143.721914 \r\nC 277.330672 124.294729 277.330668 103.358607 271.01839 83.931424 \r\nL 179.010293 113.826684 \r\nL 235.874439 192.093442 \r\nz\r\n\" style=\"fill:#ff7f0e;\"/>\r\n   </g>\r\n   <g id=\"patch_7\">\r\n    <path d=\"M 271.01839 83.931424 \r\nC 264.706112 64.50424 252.400166 47.566565 235.874413 35.559907 \r\nC 219.348661 23.55325 199.437225 17.083636 179.010275 17.08364 \r\nL 179.010293 113.826684 \r\nL 271.01839 83.931424 \r\nz\r\n\" style=\"fill:#2ca02c;\"/>\r\n   </g>\r\n   <g id=\"matplotlib.axis_1\"/>\r\n   <g id=\"matplotlib.axis_2\"/>\r\n   <g id=\"text_1\">\r\n    <!-- train -->\r\n    <defs>\r\n     <path d=\"M 18.3125 70.21875 \r\nL 18.3125 54.6875 \r\nL 36.8125 54.6875 \r\nL 36.8125 47.703125 \r\nL 18.3125 47.703125 \r\nL 18.3125 18.015625 \r\nQ 18.3125 11.328125 20.140625 9.421875 \r\nQ 21.96875 7.515625 27.59375 7.515625 \r\nL 36.8125 7.515625 \r\nL 36.8125 0 \r\nL 27.59375 0 \r\nQ 17.1875 0 13.234375 3.875 \r\nQ 9.28125 7.765625 9.28125 18.015625 \r\nL 9.28125 47.703125 \r\nL 2.6875 47.703125 \r\nL 2.6875 54.6875 \r\nL 9.28125 54.6875 \r\nL 9.28125 70.21875 \r\nz\r\n\" id=\"DejaVuSans-116\"/>\r\n     <path d=\"M 41.109375 46.296875 \r\nQ 39.59375 47.171875 37.8125 47.578125 \r\nQ 36.03125 48 33.890625 48 \r\nQ 26.265625 48 22.1875 43.046875 \r\nQ 18.109375 38.09375 18.109375 28.8125 \r\nL 18.109375 0 \r\nL 9.078125 0 \r\nL 9.078125 54.6875 \r\nL 18.109375 54.6875 \r\nL 18.109375 46.1875 \r\nQ 20.953125 51.171875 25.484375 53.578125 \r\nQ 30.03125 56 36.53125 56 \r\nQ 37.453125 56 38.578125 55.875 \r\nQ 39.703125 55.765625 41.0625 55.515625 \r\nz\r\n\" id=\"DejaVuSans-114\"/>\r\n     <path d=\"M 34.28125 27.484375 \r\nQ 23.390625 27.484375 19.1875 25 \r\nQ 14.984375 22.515625 14.984375 16.5 \r\nQ 14.984375 11.71875 18.140625 8.90625 \r\nQ 21.296875 6.109375 26.703125 6.109375 \r\nQ 34.1875 6.109375 38.703125 11.40625 \r\nQ 43.21875 16.703125 43.21875 25.484375 \r\nL 43.21875 27.484375 \r\nz\r\nM 52.203125 31.203125 \r\nL 52.203125 0 \r\nL 43.21875 0 \r\nL 43.21875 8.296875 \r\nQ 40.140625 3.328125 35.546875 0.953125 \r\nQ 30.953125 -1.421875 24.3125 -1.421875 \r\nQ 15.921875 -1.421875 10.953125 3.296875 \r\nQ 6 8.015625 6 15.921875 \r\nQ 6 25.140625 12.171875 29.828125 \r\nQ 18.359375 34.515625 30.609375 34.515625 \r\nL 43.21875 34.515625 \r\nL 43.21875 35.40625 \r\nQ 43.21875 41.609375 39.140625 45 \r\nQ 35.0625 48.390625 27.6875 48.390625 \r\nQ 23 48.390625 18.546875 47.265625 \r\nQ 14.109375 46.140625 10.015625 43.890625 \r\nL 10.015625 52.203125 \r\nQ 14.9375 54.109375 19.578125 55.046875 \r\nQ 24.21875 56 28.609375 56 \r\nQ 40.484375 56 46.34375 49.84375 \r\nQ 52.203125 43.703125 52.203125 31.203125 \r\nz\r\n\" id=\"DejaVuSans-97\"/>\r\n     <path d=\"M 9.421875 54.6875 \r\nL 18.40625 54.6875 \r\nL 18.40625 0 \r\nL 9.421875 0 \r\nz\r\nM 9.421875 75.984375 \r\nL 18.40625 75.984375 \r\nL 18.40625 64.59375 \r\nL 9.421875 64.59375 \r\nz\r\n\" id=\"DejaVuSans-105\"/>\r\n     <path d=\"M 54.890625 33.015625 \r\nL 54.890625 0 \r\nL 45.90625 0 \r\nL 45.90625 32.71875 \r\nQ 45.90625 40.484375 42.875 44.328125 \r\nQ 39.84375 48.1875 33.796875 48.1875 \r\nQ 26.515625 48.1875 22.3125 43.546875 \r\nQ 18.109375 38.921875 18.109375 30.90625 \r\nL 18.109375 0 \r\nL 9.078125 0 \r\nL 9.078125 54.6875 \r\nL 18.109375 54.6875 \r\nL 18.109375 46.1875 \r\nQ 21.34375 51.125 25.703125 53.5625 \r\nQ 30.078125 56 35.796875 56 \r\nQ 45.21875 56 50.046875 50.171875 \r\nQ 54.890625 44.34375 54.890625 33.015625 \r\nz\r\n\" id=\"DejaVuSans-110\"/>\r\n    </defs>\r\n    <g transform=\"translate(45.325573 152.460361)scale(0.1 -0.1)\">\r\n     <use xlink:href=\"#DejaVuSans-116\"/>\r\n     <use x=\"39.208984\" xlink:href=\"#DejaVuSans-114\"/>\r\n     <use x=\"80.322266\" xlink:href=\"#DejaVuSans-97\"/>\r\n     <use x=\"141.601562\" xlink:href=\"#DejaVuSans-105\"/>\r\n     <use x=\"169.384766\" xlink:href=\"#DejaVuSans-110\"/>\r\n    </g>\r\n   </g>\r\n   <g id=\"text_2\">\r\n    <!-- 60.0% -->\r\n    <defs>\r\n     <path d=\"M 33.015625 40.375 \r\nQ 26.375 40.375 22.484375 35.828125 \r\nQ 18.609375 31.296875 18.609375 23.390625 \r\nQ 18.609375 15.53125 22.484375 10.953125 \r\nQ 26.375 6.390625 33.015625 6.390625 \r\nQ 39.65625 6.390625 43.53125 10.953125 \r\nQ 47.40625 15.53125 47.40625 23.390625 \r\nQ 47.40625 31.296875 43.53125 35.828125 \r\nQ 39.65625 40.375 33.015625 40.375 \r\nz\r\nM 52.59375 71.296875 \r\nL 52.59375 62.3125 \r\nQ 48.875 64.0625 45.09375 64.984375 \r\nQ 41.3125 65.921875 37.59375 65.921875 \r\nQ 27.828125 65.921875 22.671875 59.328125 \r\nQ 17.53125 52.734375 16.796875 39.40625 \r\nQ 19.671875 43.65625 24.015625 45.921875 \r\nQ 28.375 48.1875 33.59375 48.1875 \r\nQ 44.578125 48.1875 50.953125 41.515625 \r\nQ 57.328125 34.859375 57.328125 23.390625 \r\nQ 57.328125 12.15625 50.6875 5.359375 \r\nQ 44.046875 -1.421875 33.015625 -1.421875 \r\nQ 20.359375 -1.421875 13.671875 8.265625 \r\nQ 6.984375 17.96875 6.984375 36.375 \r\nQ 6.984375 53.65625 15.1875 63.9375 \r\nQ 23.390625 74.21875 37.203125 74.21875 \r\nQ 40.921875 74.21875 44.703125 73.484375 \r\nQ 48.484375 72.75 52.59375 71.296875 \r\nz\r\n\" id=\"DejaVuSans-54\"/>\r\n     <path d=\"M 31.78125 66.40625 \r\nQ 24.171875 66.40625 20.328125 58.90625 \r\nQ 16.5 51.421875 16.5 36.375 \r\nQ 16.5 21.390625 20.328125 13.890625 \r\nQ 24.171875 6.390625 31.78125 6.390625 \r\nQ 39.453125 6.390625 43.28125 13.890625 \r\nQ 47.125 21.390625 47.125 36.375 \r\nQ 47.125 51.421875 43.28125 58.90625 \r\nQ 39.453125 66.40625 31.78125 66.40625 \r\nz\r\nM 31.78125 74.21875 \r\nQ 44.046875 74.21875 50.515625 64.515625 \r\nQ 56.984375 54.828125 56.984375 36.375 \r\nQ 56.984375 17.96875 50.515625 8.265625 \r\nQ 44.046875 -1.421875 31.78125 -1.421875 \r\nQ 19.53125 -1.421875 13.0625 8.265625 \r\nQ 6.59375 17.96875 6.59375 36.375 \r\nQ 6.59375 54.828125 13.0625 64.515625 \r\nQ 19.53125 74.21875 31.78125 74.21875 \r\nz\r\n\" id=\"DejaVuSans-48\"/>\r\n     <path d=\"M 10.6875 12.40625 \r\nL 21 12.40625 \r\nL 21 0 \r\nL 10.6875 0 \r\nz\r\n\" id=\"DejaVuSans-46\"/>\r\n     <path d=\"M 72.703125 32.078125 \r\nQ 68.453125 32.078125 66.03125 28.46875 \r\nQ 63.625 24.859375 63.625 18.40625 \r\nQ 63.625 12.0625 66.03125 8.421875 \r\nQ 68.453125 4.78125 72.703125 4.78125 \r\nQ 76.859375 4.78125 79.265625 8.421875 \r\nQ 81.6875 12.0625 81.6875 18.40625 \r\nQ 81.6875 24.8125 79.265625 28.4375 \r\nQ 76.859375 32.078125 72.703125 32.078125 \r\nz\r\nM 72.703125 38.28125 \r\nQ 80.421875 38.28125 84.953125 32.90625 \r\nQ 89.5 27.546875 89.5 18.40625 \r\nQ 89.5 9.28125 84.9375 3.921875 \r\nQ 80.375 -1.421875 72.703125 -1.421875 \r\nQ 64.890625 -1.421875 60.34375 3.921875 \r\nQ 55.8125 9.28125 55.8125 18.40625 \r\nQ 55.8125 27.59375 60.375 32.9375 \r\nQ 64.9375 38.28125 72.703125 38.28125 \r\nz\r\nM 22.3125 68.015625 \r\nQ 18.109375 68.015625 15.6875 64.375 \r\nQ 13.28125 60.75 13.28125 54.390625 \r\nQ 13.28125 47.953125 15.671875 44.328125 \r\nQ 18.0625 40.71875 22.3125 40.71875 \r\nQ 26.5625 40.71875 28.96875 44.328125 \r\nQ 31.390625 47.953125 31.390625 54.390625 \r\nQ 31.390625 60.6875 28.953125 64.34375 \r\nQ 26.515625 68.015625 22.3125 68.015625 \r\nz\r\nM 66.40625 74.21875 \r\nL 74.21875 74.21875 \r\nL 28.609375 -1.421875 \r\nL 20.796875 -1.421875 \r\nz\r\nM 22.3125 74.21875 \r\nQ 30.03125 74.21875 34.609375 68.875 \r\nQ 39.203125 63.53125 39.203125 54.390625 \r\nQ 39.203125 45.171875 34.640625 39.84375 \r\nQ 30.078125 34.515625 22.3125 34.515625 \r\nQ 14.546875 34.515625 10.03125 39.859375 \r\nQ 5.515625 45.21875 5.515625 54.390625 \r\nQ 5.515625 63.484375 10.046875 68.84375 \r\nQ 14.59375 74.21875 22.3125 74.21875 \r\nz\r\n\" id=\"DejaVuSans-37\"/>\r\n    </defs>\r\n    <g transform=\"translate(98.721029 137.512735)scale(0.1 -0.1)\">\r\n     <use xlink:href=\"#DejaVuSans-54\"/>\r\n     <use x=\"63.623047\" xlink:href=\"#DejaVuSans-48\"/>\r\n     <use x=\"127.246094\" xlink:href=\"#DejaVuSans-46\"/>\r\n     <use x=\"159.033203\" xlink:href=\"#DejaVuSans-48\"/>\r\n     <use x=\"222.65625\" xlink:href=\"#DejaVuSans-37\"/>\r\n    </g>\r\n   </g>\r\n   <g id=\"text_3\">\r\n    <!-- validation -->\r\n    <defs>\r\n     <path d=\"M 2.984375 54.6875 \r\nL 12.5 54.6875 \r\nL 29.59375 8.796875 \r\nL 46.6875 54.6875 \r\nL 56.203125 54.6875 \r\nL 35.6875 0 \r\nL 23.484375 0 \r\nz\r\n\" id=\"DejaVuSans-118\"/>\r\n     <path d=\"M 9.421875 75.984375 \r\nL 18.40625 75.984375 \r\nL 18.40625 0 \r\nL 9.421875 0 \r\nz\r\n\" id=\"DejaVuSans-108\"/>\r\n     <path d=\"M 45.40625 46.390625 \r\nL 45.40625 75.984375 \r\nL 54.390625 75.984375 \r\nL 54.390625 0 \r\nL 45.40625 0 \r\nL 45.40625 8.203125 \r\nQ 42.578125 3.328125 38.25 0.953125 \r\nQ 33.9375 -1.421875 27.875 -1.421875 \r\nQ 17.96875 -1.421875 11.734375 6.484375 \r\nQ 5.515625 14.40625 5.515625 27.296875 \r\nQ 5.515625 40.1875 11.734375 48.09375 \r\nQ 17.96875 56 27.875 56 \r\nQ 33.9375 56 38.25 53.625 \r\nQ 42.578125 51.265625 45.40625 46.390625 \r\nz\r\nM 14.796875 27.296875 \r\nQ 14.796875 17.390625 18.875 11.75 \r\nQ 22.953125 6.109375 30.078125 6.109375 \r\nQ 37.203125 6.109375 41.296875 11.75 \r\nQ 45.40625 17.390625 45.40625 27.296875 \r\nQ 45.40625 37.203125 41.296875 42.84375 \r\nQ 37.203125 48.484375 30.078125 48.484375 \r\nQ 22.953125 48.484375 18.875 42.84375 \r\nQ 14.796875 37.203125 14.796875 27.296875 \r\nz\r\n\" id=\"DejaVuSans-100\"/>\r\n     <path d=\"M 30.609375 48.390625 \r\nQ 23.390625 48.390625 19.1875 42.75 \r\nQ 14.984375 37.109375 14.984375 27.296875 \r\nQ 14.984375 17.484375 19.15625 11.84375 \r\nQ 23.34375 6.203125 30.609375 6.203125 \r\nQ 37.796875 6.203125 41.984375 11.859375 \r\nQ 46.1875 17.53125 46.1875 27.296875 \r\nQ 46.1875 37.015625 41.984375 42.703125 \r\nQ 37.796875 48.390625 30.609375 48.390625 \r\nz\r\nM 30.609375 56 \r\nQ 42.328125 56 49.015625 48.375 \r\nQ 55.71875 40.765625 55.71875 27.296875 \r\nQ 55.71875 13.875 49.015625 6.21875 \r\nQ 42.328125 -1.421875 30.609375 -1.421875 \r\nQ 18.84375 -1.421875 12.171875 6.21875 \r\nQ 5.515625 13.875 5.515625 27.296875 \r\nQ 5.515625 40.765625 12.171875 48.375 \r\nQ 18.84375 56 30.609375 56 \r\nz\r\n\" id=\"DejaVuSans-111\"/>\r\n    </defs>\r\n    <g transform=\"translate(280.219211 149.470812)scale(0.1 -0.1)\">\r\n     <use xlink:href=\"#DejaVuSans-118\"/>\r\n     <use x=\"59.179688\" xlink:href=\"#DejaVuSans-97\"/>\r\n     <use x=\"120.458984\" xlink:href=\"#DejaVuSans-108\"/>\r\n     <use x=\"148.242188\" xlink:href=\"#DejaVuSans-105\"/>\r\n     <use x=\"176.025391\" xlink:href=\"#DejaVuSans-100\"/>\r\n     <use x=\"239.501953\" xlink:href=\"#DejaVuSans-97\"/>\r\n     <use x=\"300.78125\" xlink:href=\"#DejaVuSans-116\"/>\r\n     <use x=\"339.990234\" xlink:href=\"#DejaVuSans-105\"/>\r\n     <use x=\"367.773438\" xlink:href=\"#DejaVuSans-111\"/>\r\n     <use x=\"428.955078\" xlink:href=\"#DejaVuSans-110\"/>\r\n    </g>\r\n   </g>\r\n   <g id=\"text_4\">\r\n    <!-- 20.0% -->\r\n    <defs>\r\n     <path d=\"M 19.1875 8.296875 \r\nL 53.609375 8.296875 \r\nL 53.609375 0 \r\nL 7.328125 0 \r\nL 7.328125 8.296875 \r\nQ 12.9375 14.109375 22.625 23.890625 \r\nQ 32.328125 33.6875 34.8125 36.53125 \r\nQ 39.546875 41.84375 41.421875 45.53125 \r\nQ 43.3125 49.21875 43.3125 52.78125 \r\nQ 43.3125 58.59375 39.234375 62.25 \r\nQ 35.15625 65.921875 28.609375 65.921875 \r\nQ 23.96875 65.921875 18.8125 64.3125 \r\nQ 13.671875 62.703125 7.8125 59.421875 \r\nL 7.8125 69.390625 \r\nQ 13.765625 71.78125 18.9375 73 \r\nQ 24.125 74.21875 28.421875 74.21875 \r\nQ 39.75 74.21875 46.484375 68.546875 \r\nQ 53.21875 62.890625 53.21875 53.421875 \r\nQ 53.21875 48.921875 51.53125 44.890625 \r\nQ 49.859375 40.875 45.40625 35.40625 \r\nQ 44.1875 33.984375 37.640625 27.21875 \r\nQ 31.109375 20.453125 19.1875 8.296875 \r\nz\r\n\" id=\"DejaVuSans-50\"/>\r\n    </defs>\r\n    <g transform=\"translate(218.331563 134.523197)scale(0.1 -0.1)\">\r\n     <use xlink:href=\"#DejaVuSans-50\"/>\r\n     <use x=\"63.623047\" xlink:href=\"#DejaVuSans-48\"/>\r\n     <use x=\"127.246094\" xlink:href=\"#DejaVuSans-46\"/>\r\n     <use x=\"159.033203\" xlink:href=\"#DejaVuSans-48\"/>\r\n     <use x=\"222.65625\" xlink:href=\"#DejaVuSans-37\"/>\r\n    </g>\r\n   </g>\r\n   <g id=\"text_5\">\r\n    <!-- test -->\r\n    <defs>\r\n     <path d=\"M 56.203125 29.59375 \r\nL 56.203125 25.203125 \r\nL 14.890625 25.203125 \r\nQ 15.484375 15.921875 20.484375 11.0625 \r\nQ 25.484375 6.203125 34.421875 6.203125 \r\nQ 39.59375 6.203125 44.453125 7.46875 \r\nQ 49.3125 8.734375 54.109375 11.28125 \r\nL 54.109375 2.78125 \r\nQ 49.265625 0.734375 44.1875 -0.34375 \r\nQ 39.109375 -1.421875 33.890625 -1.421875 \r\nQ 20.796875 -1.421875 13.15625 6.1875 \r\nQ 5.515625 13.8125 5.515625 26.8125 \r\nQ 5.515625 40.234375 12.765625 48.109375 \r\nQ 20.015625 56 32.328125 56 \r\nQ 43.359375 56 49.78125 48.890625 \r\nQ 56.203125 41.796875 56.203125 29.59375 \r\nz\r\nM 47.21875 32.234375 \r\nQ 47.125 39.59375 43.09375 43.984375 \r\nQ 39.0625 48.390625 32.421875 48.390625 \r\nQ 24.90625 48.390625 20.390625 44.140625 \r\nQ 15.875 39.890625 15.1875 32.171875 \r\nz\r\n\" id=\"DejaVuSans-101\"/>\r\n     <path d=\"M 44.28125 53.078125 \r\nL 44.28125 44.578125 \r\nQ 40.484375 46.53125 36.375 47.5 \r\nQ 32.28125 48.484375 27.875 48.484375 \r\nQ 21.1875 48.484375 17.84375 46.4375 \r\nQ 14.5 44.390625 14.5 40.28125 \r\nQ 14.5 37.15625 16.890625 35.375 \r\nQ 19.28125 33.59375 26.515625 31.984375 \r\nL 29.59375 31.296875 \r\nQ 39.15625 29.25 43.1875 25.515625 \r\nQ 47.21875 21.78125 47.21875 15.09375 \r\nQ 47.21875 7.46875 41.1875 3.015625 \r\nQ 35.15625 -1.421875 24.609375 -1.421875 \r\nQ 20.21875 -1.421875 15.453125 -0.5625 \r\nQ 10.6875 0.296875 5.421875 2 \r\nL 5.421875 11.28125 \r\nQ 10.40625 8.6875 15.234375 7.390625 \r\nQ 20.0625 6.109375 24.8125 6.109375 \r\nQ 31.15625 6.109375 34.5625 8.28125 \r\nQ 37.984375 10.453125 37.984375 14.40625 \r\nQ 37.984375 18.0625 35.515625 20.015625 \r\nQ 33.0625 21.96875 24.703125 23.78125 \r\nL 21.578125 24.515625 \r\nQ 13.234375 26.265625 9.515625 29.90625 \r\nQ 5.8125 33.546875 5.8125 39.890625 \r\nQ 5.8125 47.609375 11.28125 51.796875 \r\nQ 16.75 56 26.8125 56 \r\nQ 31.78125 56 36.171875 55.265625 \r\nQ 40.578125 54.546875 44.28125 53.078125 \r\nz\r\n\" id=\"DejaVuSans-115\"/>\r\n    </defs>\r\n    <g transform=\"translate(241.560825 30.492605)scale(0.1 -0.1)\">\r\n     <use xlink:href=\"#DejaVuSans-116\"/>\r\n     <use x=\"39.208984\" xlink:href=\"#DejaVuSans-101\"/>\r\n     <use x=\"100.732422\" xlink:href=\"#DejaVuSans-115\"/>\r\n     <use x=\"152.832031\" xlink:href=\"#DejaVuSans-116\"/>\r\n    </g>\r\n   </g>\r\n   <g id=\"text_6\">\r\n    <!-- 20.0% -->\r\n    <g transform=\"translate(197.245171 69.625993)scale(0.1 -0.1)\">\r\n     <use xlink:href=\"#DejaVuSans-50\"/>\r\n     <use x=\"63.623047\" xlink:href=\"#DejaVuSans-48\"/>\r\n     <use x=\"127.246094\" xlink:href=\"#DejaVuSans-46\"/>\r\n     <use x=\"159.033203\" xlink:href=\"#DejaVuSans-48\"/>\r\n     <use x=\"222.65625\" xlink:href=\"#DejaVuSans-37\"/>\r\n    </g>\r\n   </g>\r\n  </g>\r\n </g>\r\n</svg>\r\n",
      "image/png": "[encoded data removed]"
     },
     "metadata": {}
    }
   ],
   "source": [
    "# Visualise subsets information\n",
    "subsets = [l for l in datasets.keys()]\n",
    "sizes = [ss.size for ss in datasets.values()]\n",
    "explode = (0.1, 0, 0)  # only \"explode\" the 1st slice (i.e. 'train')\n",
    "\n",
    "fig1, ax1 = plt.subplots()\n",
    "ax1.pie(sizes, explode=explode, labels=subsets, autopct='%1.1f%%',\n",
    "        shadow=True, startangle=90)\n",
    "ax1.axis('equal')  # Equal aspect ratio ensures that pie is drawn as a circle.\n",
    "\n",
    "plt.show()"
   ]
  },
  {
   "cell_type": "code",
   "execution_count": 94,
   "metadata": {},
   "outputs": [
    {
     "output_type": "display_data",
     "data": {
      "text/plain": "<Figure size 432x288 with 1 Axes>",
      "image/svg+xml": "<?xml version=\"1.0\" encoding=\"utf-8\" standalone=\"no\"?>\r\n<!DOCTYPE svg PUBLIC \"-//W3C//DTD SVG 1.1//EN\"\r\n  \"http://www.w3.org/Graphics/SVG/1.1/DTD/svg11.dtd\">\r\n<!-- Created with matplotlib (https://matplotlib.org/) -->\r\n<svg height=\"231.84pt\" version=\"1.1\" viewBox=\"0 0 349.2 231.84\" width=\"349.2pt\" xmlns=\"http://www.w3.org/2000/svg\" xmlns:xlink=\"http://www.w3.org/1999/xlink\">\r\n <defs>\r\n  <style type=\"text/css\">\r\n*{stroke-linecap:butt;stroke-linejoin:round;}\r\n  </style>\r\n </defs>\r\n <g id=\"figure_1\">\r\n  <g id=\"patch_1\">\r\n   <path d=\"M 0 231.84 \r\nL 349.2 231.84 \r\nL 349.2 0 \r\nL 0 0 \r\nz\r\n\" style=\"fill:none;\"/>\r\n  </g>\r\n  <g id=\"axes_1\">\r\n   <g id=\"patch_2\">\r\n    <path d=\"M 168.021814 22.992932 \r\nC 151.923797 22.992932 136.080427 27.034272 121.949307 34.745147 \r\nC 107.818186 42.456021 95.846382 53.592479 87.13531 67.12996 \r\nC 78.424238 80.66744 73.24949 96.177656 72.087148 112.233655 \r\nC 70.924806 128.289655 73.811643 144.383472 80.482067 159.034465 \r\nC 87.152491 173.685459 97.395469 186.430112 110.26864 196.095908 \r\nC 123.141812 205.761704 138.237906 212.042845 154.168071 214.361462 \r\nC 170.098237 216.680078 186.358489 214.962815 201.452873 209.367663 \r\nC 216.547257 203.772511 229.99823 194.476484 240.568292 182.334822 \r\nL 168.021814 119.178654 \r\nL 168.021814 22.992932 \r\nz\r\n\" style=\"fill:#092436;opacity:0.5;stroke:#092436;stroke-linejoin:miter;\"/>\r\n   </g>\r\n   <g id=\"patch_3\">\r\n    <path d=\"M 249.322267 178.349241 \r\nC 265.999135 159.19279 274.427765 134.189711 272.7519 108.846486 \r\nC 271.076036 83.503262 259.42845 59.827757 240.374318 43.03408 \r\nL 176.775789 115.193073 \r\nL 249.322267 178.349241 \r\nz\r\n\" style=\"fill:#4c2604;opacity:0.5;stroke:#4c2604;stroke-linejoin:miter;\"/>\r\n   </g>\r\n   <g id=\"patch_4\">\r\n    <path d=\"M 240.374318 43.03408 \r\nC 231.662533 35.355803 221.631819 29.318276 210.768645 25.214304 \r\nC 199.905471 21.110332 188.388335 19.007351 176.775793 19.007351 \r\nL 176.775789 115.193073 \r\nL 240.374318 43.03408 \r\nz\r\n\" style=\"fill:#0d300d;opacity:0.5;stroke:#0d300d;stroke-linejoin:miter;\"/>\r\n   </g>\r\n   <g id=\"patch_5\">\r\n    <path d=\"M 169.945529 21.069218 \r\nC 153.847511 21.069218 138.004142 25.110558 123.873021 32.821432 \r\nC 109.7419 40.532306 97.770097 51.668765 89.059024 65.206245 \r\nC 80.347952 78.743726 75.173205 94.253941 74.010863 110.309941 \r\nC 72.848521 126.36594 75.735357 142.459758 82.405781 157.110751 \r\nC 89.076205 171.761744 99.319183 184.506398 112.192355 194.172194 \r\nC 125.065526 203.83799 140.16162 210.119131 156.091786 212.437747 \r\nC 172.021951 214.756364 188.282204 213.039101 203.376588 207.443949 \r\nC 218.470971 201.848796 231.921944 192.552769 242.492007 180.411108 \r\nL 169.945529 117.254939 \r\nL 169.945529 21.069218 \r\nz\r\n\" style=\"fill:#1f77b4;\"/>\r\n   </g>\r\n   <g id=\"patch_6\">\r\n    <path d=\"M 251.245981 176.425527 \r\nC 267.922849 157.269076 276.351479 132.265996 274.675615 106.922772 \r\nC 272.99975 81.579547 261.352165 57.904042 242.298032 41.110366 \r\nL 178.699503 113.269358 \r\nL 251.245981 176.425527 \r\nz\r\n\" style=\"fill:#ff7f0e;\"/>\r\n   </g>\r\n   <g id=\"patch_7\">\r\n    <path d=\"M 242.298032 41.110366 \r\nC 233.586247 33.432089 223.555534 27.394561 212.69236 23.29059 \r\nC 201.829186 19.186618 190.31205 17.083637 178.699508 17.083636 \r\nL 178.699503 113.269358 \r\nL 242.298032 41.110366 \r\nz\r\n\" style=\"fill:#2ca02c;\"/>\r\n   </g>\r\n   <g id=\"matplotlib.axis_1\"/>\r\n   <g id=\"matplotlib.axis_2\"/>\r\n   <g id=\"text_1\">\r\n    <!-- train -->\r\n    <defs>\r\n     <path d=\"M 18.3125 70.21875 \r\nL 18.3125 54.6875 \r\nL 36.8125 54.6875 \r\nL 36.8125 47.703125 \r\nL 18.3125 47.703125 \r\nL 18.3125 18.015625 \r\nQ 18.3125 11.328125 20.140625 9.421875 \r\nQ 21.96875 7.515625 27.59375 7.515625 \r\nL 36.8125 7.515625 \r\nL 36.8125 0 \r\nL 27.59375 0 \r\nQ 17.1875 0 13.234375 3.875 \r\nQ 9.28125 7.765625 9.28125 18.015625 \r\nL 9.28125 47.703125 \r\nL 2.6875 47.703125 \r\nL 2.6875 54.6875 \r\nL 9.28125 54.6875 \r\nL 9.28125 70.21875 \r\nz\r\n\" id=\"DejaVuSans-116\"/>\r\n     <path d=\"M 41.109375 46.296875 \r\nQ 39.59375 47.171875 37.8125 47.578125 \r\nQ 36.03125 48 33.890625 48 \r\nQ 26.265625 48 22.1875 43.046875 \r\nQ 18.109375 38.09375 18.109375 28.8125 \r\nL 18.109375 0 \r\nL 9.078125 0 \r\nL 9.078125 54.6875 \r\nL 18.109375 54.6875 \r\nL 18.109375 46.1875 \r\nQ 20.953125 51.171875 25.484375 53.578125 \r\nQ 30.03125 56 36.53125 56 \r\nQ 37.453125 56 38.578125 55.875 \r\nQ 39.703125 55.765625 41.0625 55.515625 \r\nz\r\n\" id=\"DejaVuSans-114\"/>\r\n     <path d=\"M 34.28125 27.484375 \r\nQ 23.390625 27.484375 19.1875 25 \r\nQ 14.984375 22.515625 14.984375 16.5 \r\nQ 14.984375 11.71875 18.140625 8.90625 \r\nQ 21.296875 6.109375 26.703125 6.109375 \r\nQ 34.1875 6.109375 38.703125 11.40625 \r\nQ 43.21875 16.703125 43.21875 25.484375 \r\nL 43.21875 27.484375 \r\nz\r\nM 52.203125 31.203125 \r\nL 52.203125 0 \r\nL 43.21875 0 \r\nL 43.21875 8.296875 \r\nQ 40.140625 3.328125 35.546875 0.953125 \r\nQ 30.953125 -1.421875 24.3125 -1.421875 \r\nQ 15.921875 -1.421875 10.953125 3.296875 \r\nQ 6 8.015625 6 15.921875 \r\nQ 6 25.140625 12.171875 29.828125 \r\nQ 18.359375 34.515625 30.609375 34.515625 \r\nL 43.21875 34.515625 \r\nL 43.21875 35.40625 \r\nQ 43.21875 41.609375 39.140625 45 \r\nQ 35.0625 48.390625 27.6875 48.390625 \r\nQ 23 48.390625 18.546875 47.265625 \r\nQ 14.109375 46.140625 10.015625 43.890625 \r\nL 10.015625 52.203125 \r\nQ 14.9375 54.109375 19.578125 55.046875 \r\nQ 24.21875 56 28.609375 56 \r\nQ 40.484375 56 46.34375 49.84375 \r\nQ 52.203125 43.703125 52.203125 31.203125 \r\nz\r\n\" id=\"DejaVuSans-97\"/>\r\n     <path d=\"M 9.421875 54.6875 \r\nL 18.40625 54.6875 \r\nL 18.40625 0 \r\nL 9.421875 0 \r\nz\r\nM 9.421875 75.984375 \r\nL 18.40625 75.984375 \r\nL 18.40625 64.59375 \r\nL 9.421875 64.59375 \r\nz\r\n\" id=\"DejaVuSans-105\"/>\r\n     <path d=\"M 54.890625 33.015625 \r\nL 54.890625 0 \r\nL 45.90625 0 \r\nL 45.90625 32.71875 \r\nQ 45.90625 40.484375 42.875 44.328125 \r\nQ 39.84375 48.1875 33.796875 48.1875 \r\nQ 26.515625 48.1875 22.3125 43.546875 \r\nQ 18.109375 38.921875 18.109375 30.90625 \r\nL 18.109375 0 \r\nL 9.078125 0 \r\nL 9.078125 54.6875 \r\nL 18.109375 54.6875 \r\nL 18.109375 46.1875 \r\nQ 21.34375 51.125 25.703125 53.5625 \r\nQ 30.078125 56 35.796875 56 \r\nQ 45.21875 56 50.046875 50.171875 \r\nQ 54.890625 44.34375 54.890625 33.015625 \r\nz\r\n\" id=\"DejaVuSans-110\"/>\r\n    </defs>\r\n    <g transform=\"translate(50.376806 163.855707)scale(0.1 -0.1)\">\r\n     <use xlink:href=\"#DejaVuSans-116\"/>\r\n     <use x=\"39.208984\" xlink:href=\"#DejaVuSans-114\"/>\r\n     <use x=\"80.322266\" xlink:href=\"#DejaVuSans-97\"/>\r\n     <use x=\"141.601562\" xlink:href=\"#DejaVuSans-105\"/>\r\n     <use x=\"169.384766\" xlink:href=\"#DejaVuSans-110\"/>\r\n    </g>\r\n   </g>\r\n   <g id=\"text_2\">\r\n    <!-- 63.6% -->\r\n    <defs>\r\n     <path d=\"M 33.015625 40.375 \r\nQ 26.375 40.375 22.484375 35.828125 \r\nQ 18.609375 31.296875 18.609375 23.390625 \r\nQ 18.609375 15.53125 22.484375 10.953125 \r\nQ 26.375 6.390625 33.015625 6.390625 \r\nQ 39.65625 6.390625 43.53125 10.953125 \r\nQ 47.40625 15.53125 47.40625 23.390625 \r\nQ 47.40625 31.296875 43.53125 35.828125 \r\nQ 39.65625 40.375 33.015625 40.375 \r\nz\r\nM 52.59375 71.296875 \r\nL 52.59375 62.3125 \r\nQ 48.875 64.0625 45.09375 64.984375 \r\nQ 41.3125 65.921875 37.59375 65.921875 \r\nQ 27.828125 65.921875 22.671875 59.328125 \r\nQ 17.53125 52.734375 16.796875 39.40625 \r\nQ 19.671875 43.65625 24.015625 45.921875 \r\nQ 28.375 48.1875 33.59375 48.1875 \r\nQ 44.578125 48.1875 50.953125 41.515625 \r\nQ 57.328125 34.859375 57.328125 23.390625 \r\nQ 57.328125 12.15625 50.6875 5.359375 \r\nQ 44.046875 -1.421875 33.015625 -1.421875 \r\nQ 20.359375 -1.421875 13.671875 8.265625 \r\nQ 6.984375 17.96875 6.984375 36.375 \r\nQ 6.984375 53.65625 15.1875 63.9375 \r\nQ 23.390625 74.21875 37.203125 74.21875 \r\nQ 40.921875 74.21875 44.703125 73.484375 \r\nQ 48.484375 72.75 52.59375 71.296875 \r\nz\r\n\" id=\"DejaVuSans-54\"/>\r\n     <path d=\"M 40.578125 39.3125 \r\nQ 47.65625 37.796875 51.625 33 \r\nQ 55.609375 28.21875 55.609375 21.1875 \r\nQ 55.609375 10.40625 48.1875 4.484375 \r\nQ 40.765625 -1.421875 27.09375 -1.421875 \r\nQ 22.515625 -1.421875 17.65625 -0.515625 \r\nQ 12.796875 0.390625 7.625 2.203125 \r\nL 7.625 11.71875 \r\nQ 11.71875 9.328125 16.59375 8.109375 \r\nQ 21.484375 6.890625 26.8125 6.890625 \r\nQ 36.078125 6.890625 40.9375 10.546875 \r\nQ 45.796875 14.203125 45.796875 21.1875 \r\nQ 45.796875 27.640625 41.28125 31.265625 \r\nQ 36.765625 34.90625 28.71875 34.90625 \r\nL 20.21875 34.90625 \r\nL 20.21875 43.015625 \r\nL 29.109375 43.015625 \r\nQ 36.375 43.015625 40.234375 45.921875 \r\nQ 44.09375 48.828125 44.09375 54.296875 \r\nQ 44.09375 59.90625 40.109375 62.90625 \r\nQ 36.140625 65.921875 28.71875 65.921875 \r\nQ 24.65625 65.921875 20.015625 65.03125 \r\nQ 15.375 64.15625 9.8125 62.3125 \r\nL 9.8125 71.09375 \r\nQ 15.4375 72.65625 20.34375 73.4375 \r\nQ 25.25 74.21875 29.59375 74.21875 \r\nQ 40.828125 74.21875 47.359375 69.109375 \r\nQ 53.90625 64.015625 53.90625 55.328125 \r\nQ 53.90625 49.265625 50.4375 45.09375 \r\nQ 46.96875 40.921875 40.578125 39.3125 \r\nz\r\n\" id=\"DejaVuSans-51\"/>\r\n     <path d=\"M 10.6875 12.40625 \r\nL 21 12.40625 \r\nL 21 0 \r\nL 10.6875 0 \r\nz\r\n\" id=\"DejaVuSans-46\"/>\r\n     <path d=\"M 72.703125 32.078125 \r\nQ 68.453125 32.078125 66.03125 28.46875 \r\nQ 63.625 24.859375 63.625 18.40625 \r\nQ 63.625 12.0625 66.03125 8.421875 \r\nQ 68.453125 4.78125 72.703125 4.78125 \r\nQ 76.859375 4.78125 79.265625 8.421875 \r\nQ 81.6875 12.0625 81.6875 18.40625 \r\nQ 81.6875 24.8125 79.265625 28.4375 \r\nQ 76.859375 32.078125 72.703125 32.078125 \r\nz\r\nM 72.703125 38.28125 \r\nQ 80.421875 38.28125 84.953125 32.90625 \r\nQ 89.5 27.546875 89.5 18.40625 \r\nQ 89.5 9.28125 84.9375 3.921875 \r\nQ 80.375 -1.421875 72.703125 -1.421875 \r\nQ 64.890625 -1.421875 60.34375 3.921875 \r\nQ 55.8125 9.28125 55.8125 18.40625 \r\nQ 55.8125 27.59375 60.375 32.9375 \r\nQ 64.9375 38.28125 72.703125 38.28125 \r\nz\r\nM 22.3125 68.015625 \r\nQ 18.109375 68.015625 15.6875 64.375 \r\nQ 13.28125 60.75 13.28125 54.390625 \r\nQ 13.28125 47.953125 15.671875 44.328125 \r\nQ 18.0625 40.71875 22.3125 40.71875 \r\nQ 26.5625 40.71875 28.96875 44.328125 \r\nQ 31.390625 47.953125 31.390625 54.390625 \r\nQ 31.390625 60.6875 28.953125 64.34375 \r\nQ 26.515625 68.015625 22.3125 68.015625 \r\nz\r\nM 66.40625 74.21875 \r\nL 74.21875 74.21875 \r\nL 28.609375 -1.421875 \r\nL 20.796875 -1.421875 \r\nz\r\nM 22.3125 74.21875 \r\nQ 30.03125 74.21875 34.609375 68.875 \r\nQ 39.203125 63.53125 39.203125 54.390625 \r\nQ 39.203125 45.171875 34.640625 39.84375 \r\nQ 30.078125 34.515625 22.3125 34.515625 \r\nQ 14.546875 34.515625 10.03125 39.859375 \r\nQ 5.515625 45.21875 5.515625 54.390625 \r\nQ 5.515625 63.484375 10.046875 68.84375 \r\nQ 14.59375 74.21875 22.3125 74.21875 \r\nz\r\n\" id=\"DejaVuSans-37\"/>\r\n    </defs>\r\n    <g transform=\"translate(101.538086 143.927801)scale(0.1 -0.1)\">\r\n     <use xlink:href=\"#DejaVuSans-54\"/>\r\n     <use x=\"63.623047\" xlink:href=\"#DejaVuSans-51\"/>\r\n     <use x=\"127.246094\" xlink:href=\"#DejaVuSans-46\"/>\r\n     <use x=\"159.033203\" xlink:href=\"#DejaVuSans-54\"/>\r\n     <use x=\"222.65625\" xlink:href=\"#DejaVuSans-37\"/>\r\n    </g>\r\n   </g>\r\n   <g id=\"text_3\">\r\n    <!-- validation -->\r\n    <defs>\r\n     <path d=\"M 2.984375 54.6875 \r\nL 12.5 54.6875 \r\nL 29.59375 8.796875 \r\nL 46.6875 54.6875 \r\nL 56.203125 54.6875 \r\nL 35.6875 0 \r\nL 23.484375 0 \r\nz\r\n\" id=\"DejaVuSans-118\"/>\r\n     <path d=\"M 9.421875 75.984375 \r\nL 18.40625 75.984375 \r\nL 18.40625 0 \r\nL 9.421875 0 \r\nz\r\n\" id=\"DejaVuSans-108\"/>\r\n     <path d=\"M 45.40625 46.390625 \r\nL 45.40625 75.984375 \r\nL 54.390625 75.984375 \r\nL 54.390625 0 \r\nL 45.40625 0 \r\nL 45.40625 8.203125 \r\nQ 42.578125 3.328125 38.25 0.953125 \r\nQ 33.9375 -1.421875 27.875 -1.421875 \r\nQ 17.96875 -1.421875 11.734375 6.484375 \r\nQ 5.515625 14.40625 5.515625 27.296875 \r\nQ 5.515625 40.1875 11.734375 48.09375 \r\nQ 17.96875 56 27.875 56 \r\nQ 33.9375 56 38.25 53.625 \r\nQ 42.578125 51.265625 45.40625 46.390625 \r\nz\r\nM 14.796875 27.296875 \r\nQ 14.796875 17.390625 18.875 11.75 \r\nQ 22.953125 6.109375 30.078125 6.109375 \r\nQ 37.203125 6.109375 41.296875 11.75 \r\nQ 45.40625 17.390625 45.40625 27.296875 \r\nQ 45.40625 37.203125 41.296875 42.84375 \r\nQ 37.203125 48.484375 30.078125 48.484375 \r\nQ 22.953125 48.484375 18.875 42.84375 \r\nQ 14.796875 37.203125 14.796875 27.296875 \r\nz\r\n\" id=\"DejaVuSans-100\"/>\r\n     <path d=\"M 30.609375 48.390625 \r\nQ 23.390625 48.390625 19.1875 42.75 \r\nQ 14.984375 37.109375 14.984375 27.296875 \r\nQ 14.984375 17.484375 19.15625 11.84375 \r\nQ 23.34375 6.203125 30.609375 6.203125 \r\nQ 37.796875 6.203125 41.984375 11.859375 \r\nQ 46.1875 17.53125 46.1875 27.296875 \r\nQ 46.1875 37.015625 41.984375 42.703125 \r\nQ 37.796875 48.390625 30.609375 48.390625 \r\nz\r\nM 30.609375 56 \r\nQ 42.328125 56 49.015625 48.375 \r\nQ 55.71875 40.765625 55.71875 27.296875 \r\nQ 55.71875 13.875 49.015625 6.21875 \r\nQ 42.328125 -1.421875 30.609375 -1.421875 \r\nQ 18.84375 -1.421875 12.171875 6.21875 \r\nQ 5.515625 13.875 5.515625 27.296875 \r\nQ 5.515625 40.765625 12.171875 48.375 \r\nQ 18.84375 56 30.609375 56 \r\nz\r\n\" id=\"DejaVuSans-111\"/>\r\n    </defs>\r\n    <g transform=\"translate(284.273226 109.047488)scale(0.1 -0.1)\">\r\n     <use xlink:href=\"#DejaVuSans-118\"/>\r\n     <use x=\"59.179688\" xlink:href=\"#DejaVuSans-97\"/>\r\n     <use x=\"120.458984\" xlink:href=\"#DejaVuSans-108\"/>\r\n     <use x=\"148.242188\" xlink:href=\"#DejaVuSans-105\"/>\r\n     <use x=\"176.025391\" xlink:href=\"#DejaVuSans-100\"/>\r\n     <use x=\"239.501953\" xlink:href=\"#DejaVuSans-97\"/>\r\n     <use x=\"300.78125\" xlink:href=\"#DejaVuSans-116\"/>\r\n     <use x=\"339.990234\" xlink:href=\"#DejaVuSans-105\"/>\r\n     <use x=\"367.773438\" xlink:href=\"#DejaVuSans-111\"/>\r\n     <use x=\"428.955078\" xlink:href=\"#DejaVuSans-110\"/>\r\n    </g>\r\n   </g>\r\n   <g id=\"text_4\">\r\n    <!-- 24.9% -->\r\n    <defs>\r\n     <path d=\"M 19.1875 8.296875 \r\nL 53.609375 8.296875 \r\nL 53.609375 0 \r\nL 7.328125 0 \r\nL 7.328125 8.296875 \r\nQ 12.9375 14.109375 22.625 23.890625 \r\nQ 32.328125 33.6875 34.8125 36.53125 \r\nQ 39.546875 41.84375 41.421875 45.53125 \r\nQ 43.3125 49.21875 43.3125 52.78125 \r\nQ 43.3125 58.59375 39.234375 62.25 \r\nQ 35.15625 65.921875 28.609375 65.921875 \r\nQ 23.96875 65.921875 18.8125 64.3125 \r\nQ 13.671875 62.703125 7.8125 59.421875 \r\nL 7.8125 69.390625 \r\nQ 13.765625 71.78125 18.9375 73 \r\nQ 24.125 74.21875 28.421875 74.21875 \r\nQ 39.75 74.21875 46.484375 68.546875 \r\nQ 53.21875 62.890625 53.21875 53.421875 \r\nQ 53.21875 48.921875 51.53125 44.890625 \r\nQ 49.859375 40.875 45.40625 35.40625 \r\nQ 44.1875 33.984375 37.640625 27.21875 \r\nQ 31.109375 20.453125 19.1875 8.296875 \r\nz\r\n\" id=\"DejaVuSans-50\"/>\r\n     <path d=\"M 37.796875 64.3125 \r\nL 12.890625 25.390625 \r\nL 37.796875 25.390625 \r\nz\r\nM 35.203125 72.90625 \r\nL 47.609375 72.90625 \r\nL 47.609375 25.390625 \r\nL 58.015625 25.390625 \r\nL 58.015625 17.1875 \r\nL 47.609375 17.1875 \r\nL 47.609375 0 \r\nL 37.796875 0 \r\nL 37.796875 17.1875 \r\nL 4.890625 17.1875 \r\nL 4.890625 26.703125 \r\nz\r\n\" id=\"DejaVuSans-52\"/>\r\n     <path d=\"M 10.984375 1.515625 \r\nL 10.984375 10.5 \r\nQ 14.703125 8.734375 18.5 7.8125 \r\nQ 22.3125 6.890625 25.984375 6.890625 \r\nQ 35.75 6.890625 40.890625 13.453125 \r\nQ 46.046875 20.015625 46.78125 33.40625 \r\nQ 43.953125 29.203125 39.59375 26.953125 \r\nQ 35.25 24.703125 29.984375 24.703125 \r\nQ 19.046875 24.703125 12.671875 31.3125 \r\nQ 6.296875 37.9375 6.296875 49.421875 \r\nQ 6.296875 60.640625 12.9375 67.421875 \r\nQ 19.578125 74.21875 30.609375 74.21875 \r\nQ 43.265625 74.21875 49.921875 64.515625 \r\nQ 56.59375 54.828125 56.59375 36.375 \r\nQ 56.59375 19.140625 48.40625 8.859375 \r\nQ 40.234375 -1.421875 26.421875 -1.421875 \r\nQ 22.703125 -1.421875 18.890625 -0.6875 \r\nQ 15.09375 0.046875 10.984375 1.515625 \r\nz\r\nM 30.609375 32.421875 \r\nQ 37.25 32.421875 41.125 36.953125 \r\nQ 45.015625 41.5 45.015625 49.421875 \r\nQ 45.015625 57.28125 41.125 61.84375 \r\nQ 37.25 66.40625 30.609375 66.40625 \r\nQ 23.96875 66.40625 20.09375 61.84375 \r\nQ 16.21875 57.28125 16.21875 49.421875 \r\nQ 16.21875 41.5 20.09375 36.953125 \r\nQ 23.96875 32.421875 30.609375 32.421875 \r\nz\r\n\" id=\"DejaVuSans-57\"/>\r\n    </defs>\r\n    <g transform=\"translate(220.401576 112.220781)scale(0.1 -0.1)\">\r\n     <use xlink:href=\"#DejaVuSans-50\"/>\r\n     <use x=\"63.623047\" xlink:href=\"#DejaVuSans-52\"/>\r\n     <use x=\"127.246094\" xlink:href=\"#DejaVuSans-46\"/>\r\n     <use x=\"159.033203\" xlink:href=\"#DejaVuSans-57\"/>\r\n     <use x=\"222.65625\" xlink:href=\"#DejaVuSans-37\"/>\r\n    </g>\r\n   </g>\r\n   <g id=\"text_5\">\r\n    <!-- test -->\r\n    <defs>\r\n     <path d=\"M 56.203125 29.59375 \r\nL 56.203125 25.203125 \r\nL 14.890625 25.203125 \r\nQ 15.484375 15.921875 20.484375 11.0625 \r\nQ 25.484375 6.203125 34.421875 6.203125 \r\nQ 39.59375 6.203125 44.453125 7.46875 \r\nQ 49.3125 8.734375 54.109375 11.28125 \r\nL 54.109375 2.78125 \r\nQ 49.265625 0.734375 44.1875 -0.34375 \r\nQ 39.109375 -1.421875 33.890625 -1.421875 \r\nQ 20.796875 -1.421875 13.15625 6.1875 \r\nQ 5.515625 13.8125 5.515625 26.8125 \r\nQ 5.515625 40.234375 12.765625 48.109375 \r\nQ 20.015625 56 32.328125 56 \r\nQ 43.359375 56 49.78125 48.890625 \r\nQ 56.203125 41.796875 56.203125 29.59375 \r\nz\r\nM 47.21875 32.234375 \r\nQ 47.125 39.59375 43.09375 43.984375 \r\nQ 39.0625 48.390625 32.421875 48.390625 \r\nQ 24.90625 48.390625 20.390625 44.140625 \r\nQ 15.875 39.890625 15.1875 32.171875 \r\nz\r\n\" id=\"DejaVuSans-101\"/>\r\n     <path d=\"M 44.28125 53.078125 \r\nL 44.28125 44.578125 \r\nQ 40.484375 46.53125 36.375 47.5 \r\nQ 32.28125 48.484375 27.875 48.484375 \r\nQ 21.1875 48.484375 17.84375 46.4375 \r\nQ 14.5 44.390625 14.5 40.28125 \r\nQ 14.5 37.15625 16.890625 35.375 \r\nQ 19.28125 33.59375 26.515625 31.984375 \r\nL 29.59375 31.296875 \r\nQ 39.15625 29.25 43.1875 25.515625 \r\nQ 47.21875 21.78125 47.21875 15.09375 \r\nQ 47.21875 7.46875 41.1875 3.015625 \r\nQ 35.15625 -1.421875 24.609375 -1.421875 \r\nQ 20.21875 -1.421875 15.453125 -0.5625 \r\nQ 10.6875 0.296875 5.421875 2 \r\nL 5.421875 11.28125 \r\nQ 10.40625 8.6875 15.234375 7.390625 \r\nQ 20.0625 6.109375 24.8125 6.109375 \r\nQ 31.15625 6.109375 34.5625 8.28125 \r\nQ 37.984375 10.453125 37.984375 14.40625 \r\nQ 37.984375 18.0625 35.515625 20.015625 \r\nQ 33.0625 21.96875 24.703125 23.78125 \r\nL 21.578125 24.515625 \r\nQ 13.234375 26.265625 9.515625 29.90625 \r\nQ 5.8125 33.546875 5.8125 39.890625 \r\nQ 5.8125 47.609375 11.28125 51.796875 \r\nQ 16.75 56 26.8125 56 \r\nQ 31.78125 56 36.171875 55.265625 \r\nQ 40.578125 54.546875 44.28125 53.078125 \r\nz\r\n\" id=\"DejaVuSans-115\"/>\r\n    </defs>\r\n    <g transform=\"translate(216.091645 17.052088)scale(0.1 -0.1)\">\r\n     <use xlink:href=\"#DejaVuSans-116\"/>\r\n     <use x=\"39.208984\" xlink:href=\"#DejaVuSans-101\"/>\r\n     <use x=\"100.732422\" xlink:href=\"#DejaVuSans-115\"/>\r\n     <use x=\"152.832031\" xlink:href=\"#DejaVuSans-116\"/>\r\n    </g>\r\n   </g>\r\n   <g id=\"text_6\">\r\n    <!-- 11.5% -->\r\n    <defs>\r\n     <path d=\"M 12.40625 8.296875 \r\nL 28.515625 8.296875 \r\nL 28.515625 63.921875 \r\nL 10.984375 60.40625 \r\nL 10.984375 69.390625 \r\nL 28.421875 72.90625 \r\nL 38.28125 72.90625 \r\nL 38.28125 8.296875 \r\nL 54.390625 8.296875 \r\nL 54.390625 0 \r\nL 12.40625 0 \r\nz\r\n\" id=\"DejaVuSans-49\"/>\r\n     <path d=\"M 10.796875 72.90625 \r\nL 49.515625 72.90625 \r\nL 49.515625 64.59375 \r\nL 19.828125 64.59375 \r\nL 19.828125 46.734375 \r\nQ 21.96875 47.46875 24.109375 47.828125 \r\nQ 26.265625 48.1875 28.421875 48.1875 \r\nQ 40.625 48.1875 47.75 41.5 \r\nQ 54.890625 34.8125 54.890625 23.390625 \r\nQ 54.890625 11.625 47.5625 5.09375 \r\nQ 40.234375 -1.421875 26.90625 -1.421875 \r\nQ 22.3125 -1.421875 17.546875 -0.640625 \r\nQ 12.796875 0.140625 7.71875 1.703125 \r\nL 7.71875 11.625 \r\nQ 12.109375 9.234375 16.796875 8.0625 \r\nQ 21.484375 6.890625 26.703125 6.890625 \r\nQ 35.15625 6.890625 40.078125 11.328125 \r\nQ 45.015625 15.765625 45.015625 23.390625 \r\nQ 45.015625 31 40.078125 35.4375 \r\nQ 35.15625 39.890625 26.703125 39.890625 \r\nQ 22.75 39.890625 18.8125 39.015625 \r\nQ 14.890625 38.140625 10.796875 36.28125 \r\nz\r\n\" id=\"DejaVuSans-53\"/>\r\n    </defs>\r\n    <g transform=\"translate(183.211623 62.041472)scale(0.1 -0.1)\">\r\n     <use xlink:href=\"#DejaVuSans-49\"/>\r\n     <use x=\"63.623047\" xlink:href=\"#DejaVuSans-49\"/>\r\n     <use x=\"127.246094\" xlink:href=\"#DejaVuSans-46\"/>\r\n     <use x=\"159.033203\" xlink:href=\"#DejaVuSans-53\"/>\r\n     <use x=\"222.65625\" xlink:href=\"#DejaVuSans-37\"/>\r\n    </g>\r\n   </g>\r\n   <g id=\"legend_1\">\r\n    <g id=\"patch_8\">\r\n     <path d=\"M 14.2 73.9125 \r\nL 111.185937 73.9125 \r\nQ 113.185937 73.9125 113.185937 71.9125 \r\nL 113.185937 14.2 \r\nQ 113.185937 12.2 111.185937 12.2 \r\nL 14.2 12.2 \r\nQ 12.2 12.2 12.2 14.2 \r\nL 12.2 71.9125 \r\nQ 12.2 73.9125 14.2 73.9125 \r\nz\r\n\" style=\"fill:#ffffff;opacity:0.8;stroke:#cccccc;stroke-linejoin:miter;\"/>\r\n    </g>\r\n    <g id=\"text_7\">\r\n     <!-- Subset sizes -->\r\n     <defs>\r\n      <path d=\"M 53.515625 70.515625 \r\nL 53.515625 60.890625 \r\nQ 47.90625 63.578125 42.921875 64.890625 \r\nQ 37.9375 66.21875 33.296875 66.21875 \r\nQ 25.25 66.21875 20.875 63.09375 \r\nQ 16.5 59.96875 16.5 54.203125 \r\nQ 16.5 49.359375 19.40625 46.890625 \r\nQ 22.3125 44.4375 30.421875 42.921875 \r\nL 36.375 41.703125 \r\nQ 47.40625 39.59375 52.65625 34.296875 \r\nQ 57.90625 29 57.90625 20.125 \r\nQ 57.90625 9.515625 50.796875 4.046875 \r\nQ 43.703125 -1.421875 29.984375 -1.421875 \r\nQ 24.8125 -1.421875 18.96875 -0.25 \r\nQ 13.140625 0.921875 6.890625 3.21875 \r\nL 6.890625 13.375 \r\nQ 12.890625 10.015625 18.65625 8.296875 \r\nQ 24.421875 6.59375 29.984375 6.59375 \r\nQ 38.421875 6.59375 43.015625 9.90625 \r\nQ 47.609375 13.234375 47.609375 19.390625 \r\nQ 47.609375 24.75 44.3125 27.78125 \r\nQ 41.015625 30.8125 33.5 32.328125 \r\nL 27.484375 33.5 \r\nQ 16.453125 35.6875 11.515625 40.375 \r\nQ 6.59375 45.0625 6.59375 53.421875 \r\nQ 6.59375 63.09375 13.40625 68.65625 \r\nQ 20.21875 74.21875 32.171875 74.21875 \r\nQ 37.3125 74.21875 42.625 73.28125 \r\nQ 47.953125 72.359375 53.515625 70.515625 \r\nz\r\n\" id=\"DejaVuSans-83\"/>\r\n      <path d=\"M 8.5 21.578125 \r\nL 8.5 54.6875 \r\nL 17.484375 54.6875 \r\nL 17.484375 21.921875 \r\nQ 17.484375 14.15625 20.5 10.265625 \r\nQ 23.53125 6.390625 29.59375 6.390625 \r\nQ 36.859375 6.390625 41.078125 11.03125 \r\nQ 45.3125 15.671875 45.3125 23.6875 \r\nL 45.3125 54.6875 \r\nL 54.296875 54.6875 \r\nL 54.296875 0 \r\nL 45.3125 0 \r\nL 45.3125 8.40625 \r\nQ 42.046875 3.421875 37.71875 1 \r\nQ 33.40625 -1.421875 27.6875 -1.421875 \r\nQ 18.265625 -1.421875 13.375 4.4375 \r\nQ 8.5 10.296875 8.5 21.578125 \r\nz\r\nM 31.109375 56 \r\nz\r\n\" id=\"DejaVuSans-117\"/>\r\n      <path d=\"M 48.6875 27.296875 \r\nQ 48.6875 37.203125 44.609375 42.84375 \r\nQ 40.53125 48.484375 33.40625 48.484375 \r\nQ 26.265625 48.484375 22.1875 42.84375 \r\nQ 18.109375 37.203125 18.109375 27.296875 \r\nQ 18.109375 17.390625 22.1875 11.75 \r\nQ 26.265625 6.109375 33.40625 6.109375 \r\nQ 40.53125 6.109375 44.609375 11.75 \r\nQ 48.6875 17.390625 48.6875 27.296875 \r\nz\r\nM 18.109375 46.390625 \r\nQ 20.953125 51.265625 25.265625 53.625 \r\nQ 29.59375 56 35.59375 56 \r\nQ 45.5625 56 51.78125 48.09375 \r\nQ 58.015625 40.1875 58.015625 27.296875 \r\nQ 58.015625 14.40625 51.78125 6.484375 \r\nQ 45.5625 -1.421875 35.59375 -1.421875 \r\nQ 29.59375 -1.421875 25.265625 0.953125 \r\nQ 20.953125 3.328125 18.109375 8.203125 \r\nL 18.109375 0 \r\nL 9.078125 0 \r\nL 9.078125 75.984375 \r\nL 18.109375 75.984375 \r\nz\r\n\" id=\"DejaVuSans-98\"/>\r\n      <path id=\"DejaVuSans-32\"/>\r\n      <path d=\"M 5.515625 54.6875 \r\nL 48.1875 54.6875 \r\nL 48.1875 46.484375 \r\nL 14.40625 7.171875 \r\nL 48.1875 7.171875 \r\nL 48.1875 0 \r\nL 4.296875 0 \r\nL 4.296875 8.203125 \r\nL 38.09375 47.515625 \r\nL 5.515625 47.515625 \r\nz\r\n\" id=\"DejaVuSans-122\"/>\r\n     </defs>\r\n     <g transform=\"translate(31.646094 23.798437)scale(0.1 -0.1)\">\r\n      <use xlink:href=\"#DejaVuSans-83\"/>\r\n      <use x=\"63.476562\" xlink:href=\"#DejaVuSans-117\"/>\r\n      <use x=\"126.855469\" xlink:href=\"#DejaVuSans-98\"/>\r\n      <use x=\"190.332031\" xlink:href=\"#DejaVuSans-115\"/>\r\n      <use x=\"242.431641\" xlink:href=\"#DejaVuSans-101\"/>\r\n      <use x=\"303.955078\" xlink:href=\"#DejaVuSans-116\"/>\r\n      <use x=\"343.164062\" xlink:href=\"#DejaVuSans-32\"/>\r\n      <use x=\"374.951172\" xlink:href=\"#DejaVuSans-115\"/>\r\n      <use x=\"427.050781\" xlink:href=\"#DejaVuSans-105\"/>\r\n      <use x=\"454.833984\" xlink:href=\"#DejaVuSans-122\"/>\r\n      <use x=\"507.324219\" xlink:href=\"#DejaVuSans-101\"/>\r\n      <use x=\"568.847656\" xlink:href=\"#DejaVuSans-115\"/>\r\n     </g>\r\n    </g>\r\n    <g id=\"patch_9\">\r\n     <path d=\"M 16.2 38.476562 \r\nL 36.2 38.476562 \r\nL 36.2 31.476562 \r\nL 16.2 31.476562 \r\nz\r\n\" style=\"fill:#1f77b4;\"/>\r\n    </g>\r\n    <g id=\"text_8\">\r\n     <!-- 8170 images -->\r\n     <defs>\r\n      <path d=\"M 31.78125 34.625 \r\nQ 24.75 34.625 20.71875 30.859375 \r\nQ 16.703125 27.09375 16.703125 20.515625 \r\nQ 16.703125 13.921875 20.71875 10.15625 \r\nQ 24.75 6.390625 31.78125 6.390625 \r\nQ 38.8125 6.390625 42.859375 10.171875 \r\nQ 46.921875 13.96875 46.921875 20.515625 \r\nQ 46.921875 27.09375 42.890625 30.859375 \r\nQ 38.875 34.625 31.78125 34.625 \r\nz\r\nM 21.921875 38.8125 \r\nQ 15.578125 40.375 12.03125 44.71875 \r\nQ 8.5 49.078125 8.5 55.328125 \r\nQ 8.5 64.0625 14.71875 69.140625 \r\nQ 20.953125 74.21875 31.78125 74.21875 \r\nQ 42.671875 74.21875 48.875 69.140625 \r\nQ 55.078125 64.0625 55.078125 55.328125 \r\nQ 55.078125 49.078125 51.53125 44.71875 \r\nQ 48 40.375 41.703125 38.8125 \r\nQ 48.828125 37.15625 52.796875 32.3125 \r\nQ 56.78125 27.484375 56.78125 20.515625 \r\nQ 56.78125 9.90625 50.3125 4.234375 \r\nQ 43.84375 -1.421875 31.78125 -1.421875 \r\nQ 19.734375 -1.421875 13.25 4.234375 \r\nQ 6.78125 9.90625 6.78125 20.515625 \r\nQ 6.78125 27.484375 10.78125 32.3125 \r\nQ 14.796875 37.15625 21.921875 38.8125 \r\nz\r\nM 18.3125 54.390625 \r\nQ 18.3125 48.734375 21.84375 45.5625 \r\nQ 25.390625 42.390625 31.78125 42.390625 \r\nQ 38.140625 42.390625 41.71875 45.5625 \r\nQ 45.3125 48.734375 45.3125 54.390625 \r\nQ 45.3125 60.0625 41.71875 63.234375 \r\nQ 38.140625 66.40625 31.78125 66.40625 \r\nQ 25.390625 66.40625 21.84375 63.234375 \r\nQ 18.3125 60.0625 18.3125 54.390625 \r\nz\r\n\" id=\"DejaVuSans-56\"/>\r\n      <path d=\"M 8.203125 72.90625 \r\nL 55.078125 72.90625 \r\nL 55.078125 68.703125 \r\nL 28.609375 0 \r\nL 18.3125 0 \r\nL 43.21875 64.59375 \r\nL 8.203125 64.59375 \r\nz\r\n\" id=\"DejaVuSans-55\"/>\r\n      <path d=\"M 31.78125 66.40625 \r\nQ 24.171875 66.40625 20.328125 58.90625 \r\nQ 16.5 51.421875 16.5 36.375 \r\nQ 16.5 21.390625 20.328125 13.890625 \r\nQ 24.171875 6.390625 31.78125 6.390625 \r\nQ 39.453125 6.390625 43.28125 13.890625 \r\nQ 47.125 21.390625 47.125 36.375 \r\nQ 47.125 51.421875 43.28125 58.90625 \r\nQ 39.453125 66.40625 31.78125 66.40625 \r\nz\r\nM 31.78125 74.21875 \r\nQ 44.046875 74.21875 50.515625 64.515625 \r\nQ 56.984375 54.828125 56.984375 36.375 \r\nQ 56.984375 17.96875 50.515625 8.265625 \r\nQ 44.046875 -1.421875 31.78125 -1.421875 \r\nQ 19.53125 -1.421875 13.0625 8.265625 \r\nQ 6.59375 17.96875 6.59375 36.375 \r\nQ 6.59375 54.828125 13.0625 64.515625 \r\nQ 19.53125 74.21875 31.78125 74.21875 \r\nz\r\n\" id=\"DejaVuSans-48\"/>\r\n      <path d=\"M 52 44.1875 \r\nQ 55.375 50.25 60.0625 53.125 \r\nQ 64.75 56 71.09375 56 \r\nQ 79.640625 56 84.28125 50.015625 \r\nQ 88.921875 44.046875 88.921875 33.015625 \r\nL 88.921875 0 \r\nL 79.890625 0 \r\nL 79.890625 32.71875 \r\nQ 79.890625 40.578125 77.09375 44.375 \r\nQ 74.3125 48.1875 68.609375 48.1875 \r\nQ 61.625 48.1875 57.5625 43.546875 \r\nQ 53.515625 38.921875 53.515625 30.90625 \r\nL 53.515625 0 \r\nL 44.484375 0 \r\nL 44.484375 32.71875 \r\nQ 44.484375 40.625 41.703125 44.40625 \r\nQ 38.921875 48.1875 33.109375 48.1875 \r\nQ 26.21875 48.1875 22.15625 43.53125 \r\nQ 18.109375 38.875 18.109375 30.90625 \r\nL 18.109375 0 \r\nL 9.078125 0 \r\nL 9.078125 54.6875 \r\nL 18.109375 54.6875 \r\nL 18.109375 46.1875 \r\nQ 21.1875 51.21875 25.484375 53.609375 \r\nQ 29.78125 56 35.6875 56 \r\nQ 41.65625 56 45.828125 52.96875 \r\nQ 50 49.953125 52 44.1875 \r\nz\r\n\" id=\"DejaVuSans-109\"/>\r\n      <path d=\"M 45.40625 27.984375 \r\nQ 45.40625 37.75 41.375 43.109375 \r\nQ 37.359375 48.484375 30.078125 48.484375 \r\nQ 22.859375 48.484375 18.828125 43.109375 \r\nQ 14.796875 37.75 14.796875 27.984375 \r\nQ 14.796875 18.265625 18.828125 12.890625 \r\nQ 22.859375 7.515625 30.078125 7.515625 \r\nQ 37.359375 7.515625 41.375 12.890625 \r\nQ 45.40625 18.265625 45.40625 27.984375 \r\nz\r\nM 54.390625 6.78125 \r\nQ 54.390625 -7.171875 48.1875 -13.984375 \r\nQ 42 -20.796875 29.203125 -20.796875 \r\nQ 24.46875 -20.796875 20.265625 -20.09375 \r\nQ 16.0625 -19.390625 12.109375 -17.921875 \r\nL 12.109375 -9.1875 \r\nQ 16.0625 -11.328125 19.921875 -12.34375 \r\nQ 23.78125 -13.375 27.78125 -13.375 \r\nQ 36.625 -13.375 41.015625 -8.765625 \r\nQ 45.40625 -4.15625 45.40625 5.171875 \r\nL 45.40625 9.625 \r\nQ 42.625 4.78125 38.28125 2.390625 \r\nQ 33.9375 0 27.875 0 \r\nQ 17.828125 0 11.671875 7.65625 \r\nQ 5.515625 15.328125 5.515625 27.984375 \r\nQ 5.515625 40.671875 11.671875 48.328125 \r\nQ 17.828125 56 27.875 56 \r\nQ 33.9375 56 38.28125 53.609375 \r\nQ 42.625 51.21875 45.40625 46.390625 \r\nL 45.40625 54.6875 \r\nL 54.390625 54.6875 \r\nz\r\n\" id=\"DejaVuSans-103\"/>\r\n     </defs>\r\n     <g transform=\"translate(44.2 38.476562)scale(0.1 -0.1)\">\r\n      <use xlink:href=\"#DejaVuSans-56\"/>\r\n      <use x=\"63.623047\" xlink:href=\"#DejaVuSans-49\"/>\r\n      <use x=\"127.246094\" xlink:href=\"#DejaVuSans-55\"/>\r\n      <use x=\"190.869141\" xlink:href=\"#DejaVuSans-48\"/>\r\n      <use x=\"254.492188\" xlink:href=\"#DejaVuSans-32\"/>\r\n      <use x=\"286.279297\" xlink:href=\"#DejaVuSans-105\"/>\r\n      <use x=\"314.0625\" xlink:href=\"#DejaVuSans-109\"/>\r\n      <use x=\"411.474609\" xlink:href=\"#DejaVuSans-97\"/>\r\n      <use x=\"472.753906\" xlink:href=\"#DejaVuSans-103\"/>\r\n      <use x=\"536.230469\" xlink:href=\"#DejaVuSans-101\"/>\r\n      <use x=\"597.753906\" xlink:href=\"#DejaVuSans-115\"/>\r\n     </g>\r\n    </g>\r\n    <g id=\"patch_10\">\r\n     <path d=\"M 16.2 53.154687 \r\nL 36.2 53.154687 \r\nL 36.2 46.154687 \r\nL 16.2 46.154687 \r\nz\r\n\" style=\"fill:#ff7f0e;\"/>\r\n    </g>\r\n    <g id=\"text_9\">\r\n     <!-- 3199 images -->\r\n     <g transform=\"translate(44.2 53.154687)scale(0.1 -0.1)\">\r\n      <use xlink:href=\"#DejaVuSans-51\"/>\r\n      <use x=\"63.623047\" xlink:href=\"#DejaVuSans-49\"/>\r\n      <use x=\"127.246094\" xlink:href=\"#DejaVuSans-57\"/>\r\n      <use x=\"190.869141\" xlink:href=\"#DejaVuSans-57\"/>\r\n      <use x=\"254.492188\" xlink:href=\"#DejaVuSans-32\"/>\r\n      <use x=\"286.279297\" xlink:href=\"#DejaVuSans-105\"/>\r\n      <use x=\"314.0625\" xlink:href=\"#DejaVuSans-109\"/>\r\n      <use x=\"411.474609\" xlink:href=\"#DejaVuSans-97\"/>\r\n      <use x=\"472.753906\" xlink:href=\"#DejaVuSans-103\"/>\r\n      <use x=\"536.230469\" xlink:href=\"#DejaVuSans-101\"/>\r\n      <use x=\"597.753906\" xlink:href=\"#DejaVuSans-115\"/>\r\n     </g>\r\n    </g>\r\n    <g id=\"patch_11\">\r\n     <path d=\"M 16.2 67.832812 \r\nL 36.2 67.832812 \r\nL 36.2 60.832812 \r\nL 16.2 60.832812 \r\nz\r\n\" style=\"fill:#2ca02c;\"/>\r\n    </g>\r\n    <g id=\"text_10\">\r\n     <!-- 1477 images -->\r\n     <g transform=\"translate(44.2 67.832812)scale(0.1 -0.1)\">\r\n      <use xlink:href=\"#DejaVuSans-49\"/>\r\n      <use x=\"63.623047\" xlink:href=\"#DejaVuSans-52\"/>\r\n      <use x=\"127.246094\" xlink:href=\"#DejaVuSans-55\"/>\r\n      <use x=\"190.869141\" xlink:href=\"#DejaVuSans-55\"/>\r\n      <use x=\"254.492188\" xlink:href=\"#DejaVuSans-32\"/>\r\n      <use x=\"286.279297\" xlink:href=\"#DejaVuSans-105\"/>\r\n      <use x=\"314.0625\" xlink:href=\"#DejaVuSans-109\"/>\r\n      <use x=\"411.474609\" xlink:href=\"#DejaVuSans-97\"/>\r\n      <use x=\"472.753906\" xlink:href=\"#DejaVuSans-103\"/>\r\n      <use x=\"536.230469\" xlink:href=\"#DejaVuSans-101\"/>\r\n      <use x=\"597.753906\" xlink:href=\"#DejaVuSans-115\"/>\r\n     </g>\r\n    </g>\r\n   </g>\r\n  </g>\r\n </g>\r\n</svg>\r\n",
      "image/png": "[encoded data removed]"
     },
     "metadata": {}
    }
   ],
   "source": [
    "datasets_images = {}\n",
    "for subset in subsets:\n",
    "    with open(os.path.join(FINAL_PATH, subset+'.txt'), 'r') as f:\n",
    "        datasets_images[subset] = f.read().split('\\n')[:-1]\n",
    "sizes = [len(ss) for ss in datasets_images.values()]\n",
    "explode = (0.1, 0, 0)  # only \"explode\" the 1st slice (i.e. 'train')\n",
    "\n",
    "fig1, ax1 = plt.subplots()\n",
    "ax1.pie(sizes, explode=explode, labels=subsets, autopct='%1.1f%%',\n",
    "        shadow=True, startangle=90)\n",
    "ax1.axis('equal')  # Equal aspect ratio ensures that pie is drawn as a circle.\n",
    "ax1.legend([str(s)+ ' images' for s in sizes], title='Subset sizes', loc='best')\n",
    "\n",
    "plt.show()"
   ]
  },
  {
   "cell_type": "markdown",
   "metadata": {},
   "source": [
    "现在已经把数据集全部做好了，不过每一个subset里面，图片基本是按照person的顺序来的，现在再来给它打乱一下。"
   ]
  },
  {
   "cell_type": "code",
   "execution_count": 108,
   "metadata": {},
   "outputs": [],
   "source": [
    "for subset, img_paths in datasets_images.items():\n",
    "    with open(os.path.join(FINAL_PATH, subset+'.txt'), 'w') as wf:\n",
    "        random.shuffle(img_paths)\n",
    "        for ip in img_paths:\n",
    "            wf.write('{}\\n'.format(ip))"
   ]
  },
  {
   "cell_type": "markdown",
   "metadata": {},
   "source": [
    "现在的`ego-hand`数据集的结构：\n",
    "\n"
   ]
  },
  {
   "cell_type": "code",
   "execution_count": 109,
   "metadata": {
    "tags": []
   },
   "outputs": [
    {
     "output_type": "stream",
     "name": "stdout",
     "text": "../datasets/ego-hand\\classes.names\n../datasets/ego-hand\\ego-hand.data\n../datasets/ego-hand\\images\n../datasets/ego-hand\\labels\n../datasets/ego-hand\\test.txt\n../datasets/ego-hand\\train.txt\n../datasets/ego-hand\\validation.txt\n"
    }
   ],
   "source": [
    "names = os.listdir(FINAL_PATH)\n",
    "for i in names:\n",
    "    path = os.path.join(FINAL_PATH, i)\n",
    "    print(path)"
   ]
  },
  {
   "cell_type": "code",
   "execution_count": null,
   "metadata": {},
   "outputs": [],
   "source": []
  },
  {
   "cell_type": "code",
   "execution_count": null,
   "metadata": {},
   "outputs": [],
   "source": []
  },
  {
   "cell_type": "code",
   "execution_count": null,
   "metadata": {},
   "outputs": [],
   "source": []
  },
  {
   "cell_type": "code",
   "execution_count": null,
   "metadata": {},
   "outputs": [],
   "source": []
  },
  {
   "cell_type": "code",
   "execution_count": null,
   "metadata": {},
   "outputs": [],
   "source": []
  },
  {
   "cell_type": "code",
   "execution_count": null,
   "metadata": {},
   "outputs": [],
   "source": []
  },
  {
   "cell_type": "code",
   "execution_count": null,
   "metadata": {},
   "outputs": [],
   "source": []
  },
  {
   "cell_type": "code",
   "execution_count": null,
   "metadata": {},
   "outputs": [],
   "source": []
  },
  {
   "cell_type": "code",
   "execution_count": null,
   "metadata": {},
   "outputs": [],
   "source": []
  },
  {
   "cell_type": "code",
   "execution_count": null,
   "metadata": {},
   "outputs": [],
   "source": []
  },
  {
   "cell_type": "code",
   "execution_count": null,
   "metadata": {},
   "outputs": [],
   "source": []
  },
  {
   "cell_type": "code",
   "execution_count": null,
   "metadata": {},
   "outputs": [],
   "source": []
  },
  {
   "cell_type": "code",
   "execution_count": null,
   "metadata": {},
   "outputs": [],
   "source": []
  },
  {
   "cell_type": "code",
   "execution_count": null,
   "metadata": {},
   "outputs": [],
   "source": []
  },
  {
   "cell_type": "code",
   "execution_count": null,
   "metadata": {},
   "outputs": [],
   "source": []
  }
 ],
 "metadata": {
  "language_info": {
   "codemirror_mode": {
    "name": "ipython",
    "version": 3
   },
   "file_extension": ".py",
   "mimetype": "text/x-python",
   "name": "python",
   "nbconvert_exporter": "python",
   "pygments_lexer": "ipython3",
   "version": 3
  },
  "orig_nbformat": 2,
  "kernelspec": {
   "name": "python_defaultSpec_1593946031253",
   "display_name": "Python 3.7.4 64-bit ('base': conda)"
  }
 },
 "nbformat": 4,
 "nbformat_minor": 2
}