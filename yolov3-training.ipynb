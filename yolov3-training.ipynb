{
 "cells": [
  {
   "cell_type": "markdown",
   "metadata": {},
   "source": [
    "# YOLOv3 training based on Repo ultralytics/yolov3\n",
    "\n",
    "> References:\n",
    "- https://github.com/ultralytics/yolov3\n",
    "\n",
    "What I would do in this Jupyter Notebook:\n",
    "![](./images/yolov3-training.png)"
   ]
  },
  {
   "cell_type": "markdown",
   "metadata": {},
   "source": [
    "我实现了前两部，但是VSCODE我反复`Ctrl+S`竟然没保存？？？中途Git提交代码了也没有保存进度？？？反正代码很简单，就是将ego-hand训练集前16张图片单独取出来做出新的数据集，也是训练集和验证集，所以data里面train和valid指向一样的txt，names文件都一样。\n",
    "\n",
    "然后重新设置了两个YOLOv3的model cfg文件（直接从`yolov3-1cls.cfg`修改）：\n",
    "\n",
    "- `yolov3-hand.cfg`：保证yolo层classes=1，前一个conv层filters=18\n",
    "- `yolov3-hand-anchors.cfg`：除了上面一个cfg的内容，将yolo层的anchors修改为自己计算的。\n",
    "\n",
    "另外加上了几句训练的语句，反正本地也没跑出来，明天直接上Colab跑。\n",
    "\n",
    "这反复保存还没保存一定是bug！还好代码比较简单，这次就不重写了。"
   ]
  },
  {
   "cell_type": "code",
   "execution_count": null,
   "metadata": {},
   "outputs": [],
   "source": []
  }
 ],
 "metadata": {
  "language_info": {
   "codemirror_mode": {
    "name": "ipython",
    "version": 3
   },
   "file_extension": ".py",
   "mimetype": "text/x-python",
   "name": "python",
   "nbconvert_exporter": "python",
   "pygments_lexer": "ipython3",
   "version": 3
  },
  "orig_nbformat": 2
 },
 "nbformat": 4,
 "nbformat_minor": 2
}